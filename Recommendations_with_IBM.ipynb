{
 "cells": [
  {
   "cell_type": "markdown",
   "metadata": {},
   "source": [
    "# Recommendations with IBM\n",
    "\n",
    "In this notebook, you will be putting your recommendation skills to use on real data from the IBM Watson Studio platform. \n",
    "\n",
    "\n",
    "You may either submit your notebook through the workspace here, or you may work from your local machine and submit through the next page.  Either way assure that your code passes the project [RUBRIC](https://review.udacity.com/#!/rubrics/2322/view).  **Please save regularly.**\n",
    "\n",
    "By following the table of contents, you will build out a number of different methods for making recommendations that can be used for different situations. \n",
    "\n",
    "\n",
    "## Table of Contents\n",
    "\n",
    "I. [Exploratory Data Analysis](#Exploratory-Data-Analysis)<br>\n",
    "II. [Rank Based Recommendations](#Rank)<br>\n",
    "III. [User-User Based Collaborative Filtering](#User-User)<br>\n",
    "IV. [Content Based Recommendations (EXTRA - NOT REQUIRED)](#Content-Recs)<br>\n",
    "V. [Matrix Factorization](#Matrix-Fact)<br>\n",
    "VI. [Extras & Concluding](#conclusions)\n",
    "\n",
    "At the end of the notebook, you will find directions for how to submit your work.  Let's get started by importing the necessary libraries and reading in the data."
   ]
  },
  {
   "cell_type": "code",
   "execution_count": 13,
   "metadata": {},
   "outputs": [
    {
     "data": {
      "text/html": [
       "<div>\n",
       "<style scoped>\n",
       "    .dataframe tbody tr th:only-of-type {\n",
       "        vertical-align: middle;\n",
       "    }\n",
       "\n",
       "    .dataframe tbody tr th {\n",
       "        vertical-align: top;\n",
       "    }\n",
       "\n",
       "    .dataframe thead th {\n",
       "        text-align: right;\n",
       "    }\n",
       "</style>\n",
       "<table border=\"1\" class=\"dataframe\">\n",
       "  <thead>\n",
       "    <tr style=\"text-align: right;\">\n",
       "      <th></th>\n",
       "      <th>article_id</th>\n",
       "      <th>title</th>\n",
       "      <th>email</th>\n",
       "    </tr>\n",
       "  </thead>\n",
       "  <tbody>\n",
       "    <tr>\n",
       "      <th>0</th>\n",
       "      <td>1430.0</td>\n",
       "      <td>using pixiedust for fast, flexible, and easier...</td>\n",
       "      <td>ef5f11f77ba020cd36e1105a00ab868bbdbf7fe7</td>\n",
       "    </tr>\n",
       "    <tr>\n",
       "      <th>1</th>\n",
       "      <td>1314.0</td>\n",
       "      <td>healthcare python streaming application demo</td>\n",
       "      <td>083cbdfa93c8444beaa4c5f5e0f5f9198e4f9e0b</td>\n",
       "    </tr>\n",
       "    <tr>\n",
       "      <th>2</th>\n",
       "      <td>1429.0</td>\n",
       "      <td>use deep learning for image classification</td>\n",
       "      <td>b96a4f2e92d8572034b1e9b28f9ac673765cd074</td>\n",
       "    </tr>\n",
       "    <tr>\n",
       "      <th>3</th>\n",
       "      <td>1338.0</td>\n",
       "      <td>ml optimization using cognitive assistant</td>\n",
       "      <td>06485706b34a5c9bf2a0ecdac41daf7e7654ceb7</td>\n",
       "    </tr>\n",
       "    <tr>\n",
       "      <th>4</th>\n",
       "      <td>1276.0</td>\n",
       "      <td>deploy your python model as a restful api</td>\n",
       "      <td>f01220c46fc92c6e6b161b1849de11faacd7ccb2</td>\n",
       "    </tr>\n",
       "  </tbody>\n",
       "</table>\n",
       "</div>"
      ],
      "text/plain": [
       "   article_id                                              title  \\\n",
       "0      1430.0  using pixiedust for fast, flexible, and easier...   \n",
       "1      1314.0       healthcare python streaming application demo   \n",
       "2      1429.0         use deep learning for image classification   \n",
       "3      1338.0          ml optimization using cognitive assistant   \n",
       "4      1276.0          deploy your python model as a restful api   \n",
       "\n",
       "                                      email  \n",
       "0  ef5f11f77ba020cd36e1105a00ab868bbdbf7fe7  \n",
       "1  083cbdfa93c8444beaa4c5f5e0f5f9198e4f9e0b  \n",
       "2  b96a4f2e92d8572034b1e9b28f9ac673765cd074  \n",
       "3  06485706b34a5c9bf2a0ecdac41daf7e7654ceb7  \n",
       "4  f01220c46fc92c6e6b161b1849de11faacd7ccb2  "
      ]
     },
     "execution_count": 13,
     "metadata": {},
     "output_type": "execute_result"
    }
   ],
   "source": [
    "import pandas as pd\n",
    "import numpy as np\n",
    "import matplotlib.pyplot as plt\n",
    "import project_tests as t\n",
    "import pickle\n",
    "\n",
    "%matplotlib inline\n",
    "\n",
    "df = pd.read_csv('data/user-item-interactions.csv')\n",
    "df_content = pd.read_csv('data/articles_community.csv')\n",
    "del df['Unnamed: 0']\n",
    "del df_content['Unnamed: 0']\n",
    "\n",
    "# Show df to get an idea of the data\n",
    "df.head()"
   ]
  },
  {
   "cell_type": "code",
   "execution_count": 14,
   "metadata": {},
   "outputs": [
    {
     "data": {
      "text/html": [
       "<div>\n",
       "<style scoped>\n",
       "    .dataframe tbody tr th:only-of-type {\n",
       "        vertical-align: middle;\n",
       "    }\n",
       "\n",
       "    .dataframe tbody tr th {\n",
       "        vertical-align: top;\n",
       "    }\n",
       "\n",
       "    .dataframe thead th {\n",
       "        text-align: right;\n",
       "    }\n",
       "</style>\n",
       "<table border=\"1\" class=\"dataframe\">\n",
       "  <thead>\n",
       "    <tr style=\"text-align: right;\">\n",
       "      <th></th>\n",
       "      <th>doc_body</th>\n",
       "      <th>doc_description</th>\n",
       "      <th>doc_full_name</th>\n",
       "      <th>doc_status</th>\n",
       "      <th>article_id</th>\n",
       "    </tr>\n",
       "  </thead>\n",
       "  <tbody>\n",
       "    <tr>\n",
       "      <th>0</th>\n",
       "      <td>Skip navigation Sign in SearchLoading...\\r\\n\\r...</td>\n",
       "      <td>Detect bad readings in real time using Python ...</td>\n",
       "      <td>Detect Malfunctioning IoT Sensors with Streami...</td>\n",
       "      <td>Live</td>\n",
       "      <td>0</td>\n",
       "    </tr>\n",
       "    <tr>\n",
       "      <th>1</th>\n",
       "      <td>No Free Hunch Navigation * kaggle.com\\r\\n\\r\\n ...</td>\n",
       "      <td>See the forest, see the trees. Here lies the c...</td>\n",
       "      <td>Communicating data science: A guide to present...</td>\n",
       "      <td>Live</td>\n",
       "      <td>1</td>\n",
       "    </tr>\n",
       "    <tr>\n",
       "      <th>2</th>\n",
       "      <td>☰ * Login\\r\\n * Sign Up\\r\\n\\r\\n * Learning Pat...</td>\n",
       "      <td>Here’s this week’s news in Data Science and Bi...</td>\n",
       "      <td>This Week in Data Science (April 18, 2017)</td>\n",
       "      <td>Live</td>\n",
       "      <td>2</td>\n",
       "    </tr>\n",
       "    <tr>\n",
       "      <th>3</th>\n",
       "      <td>DATALAYER: HIGH THROUGHPUT, LOW LATENCY AT SCA...</td>\n",
       "      <td>Learn how distributed DBs solve the problem of...</td>\n",
       "      <td>DataLayer Conference: Boost the performance of...</td>\n",
       "      <td>Live</td>\n",
       "      <td>3</td>\n",
       "    </tr>\n",
       "    <tr>\n",
       "      <th>4</th>\n",
       "      <td>Skip navigation Sign in SearchLoading...\\r\\n\\r...</td>\n",
       "      <td>This video demonstrates the power of IBM DataS...</td>\n",
       "      <td>Analyze NY Restaurant data using Spark in DSX</td>\n",
       "      <td>Live</td>\n",
       "      <td>4</td>\n",
       "    </tr>\n",
       "  </tbody>\n",
       "</table>\n",
       "</div>"
      ],
      "text/plain": [
       "                                            doc_body  \\\n",
       "0  Skip navigation Sign in SearchLoading...\\r\\n\\r...   \n",
       "1  No Free Hunch Navigation * kaggle.com\\r\\n\\r\\n ...   \n",
       "2  ☰ * Login\\r\\n * Sign Up\\r\\n\\r\\n * Learning Pat...   \n",
       "3  DATALAYER: HIGH THROUGHPUT, LOW LATENCY AT SCA...   \n",
       "4  Skip navigation Sign in SearchLoading...\\r\\n\\r...   \n",
       "\n",
       "                                     doc_description  \\\n",
       "0  Detect bad readings in real time using Python ...   \n",
       "1  See the forest, see the trees. Here lies the c...   \n",
       "2  Here’s this week’s news in Data Science and Bi...   \n",
       "3  Learn how distributed DBs solve the problem of...   \n",
       "4  This video demonstrates the power of IBM DataS...   \n",
       "\n",
       "                                       doc_full_name doc_status  article_id  \n",
       "0  Detect Malfunctioning IoT Sensors with Streami...       Live           0  \n",
       "1  Communicating data science: A guide to present...       Live           1  \n",
       "2         This Week in Data Science (April 18, 2017)       Live           2  \n",
       "3  DataLayer Conference: Boost the performance of...       Live           3  \n",
       "4      Analyze NY Restaurant data using Spark in DSX       Live           4  "
      ]
     },
     "execution_count": 14,
     "metadata": {},
     "output_type": "execute_result"
    }
   ],
   "source": [
    "# Show df_content to get an idea of the data\n",
    "df_content.head()"
   ]
  },
  {
   "cell_type": "markdown",
   "metadata": {},
   "source": [
    "### <a class=\"anchor\" id=\"Exploratory-Data-Analysis\">Part I : Exploratory Data Analysis</a>\n",
    "\n",
    "Use the dictionary and cells below to provide some insight into the descriptive statistics of the data.\n",
    "\n",
    "`1.` What is the distribution of how many articles a user interacts with in the dataset?  Provide a visual and descriptive statistics to assist with giving a look at the number of times each user interacts with an article.  "
   ]
  },
  {
   "cell_type": "code",
   "execution_count": 15,
   "metadata": {},
   "outputs": [
    {
     "name": "stdout",
     "output_type": "stream",
     "text": [
      "Mean: 8.930846930846931, Standard deviation: 16.8006351254692\n"
     ]
    },
    {
     "data": {
      "image/png": "[encoded data removed]",
      "text/plain": [
       "<matplotlib.figure.Figure at 0x7fd5ea847588>"
      ]
     },
     "metadata": {
      "needs_background": "light"
     },
     "output_type": "display_data"
    }
   ],
   "source": [
    "# Group for every user and compare how many articles each user visited\n",
    "views = np.array(df.groupby('email').count()['article_id'])\n",
    "mean = np.mean(views)\n",
    "std = np.std(views)\n",
    "\n",
    "print('Mean: {}, Standard deviation: {}'.format(mean, std))\n",
    "\n",
    "ax = plt.figure(figsize=(15,7)) \n",
    "ax = plt.hist(views,bins=80, range=(0,30))\n",
    "ax = plt.xlabel('number of viewed articles', fontsize=15)\n",
    "ax = plt.ylabel('number of users', fontsize=15)"
   ]
  },
  {
   "cell_type": "code",
   "execution_count": 16,
   "metadata": {},
   "outputs": [
    {
     "data": {
      "text/plain": [
       "3.0"
      ]
     },
     "execution_count": 16,
     "metadata": {},
     "output_type": "execute_result"
    }
   ],
   "source": [
    "np.median(views)"
   ]
  },
  {
   "cell_type": "code",
   "execution_count": 17,
   "metadata": {},
   "outputs": [
    {
     "data": {
      "text/plain": [
       "364"
      ]
     },
     "execution_count": 17,
     "metadata": {},
     "output_type": "execute_result"
    }
   ],
   "source": [
    "max(views)"
   ]
  },
  {
   "cell_type": "code",
   "execution_count": 18,
   "metadata": {},
   "outputs": [],
   "source": [
    "# Fill in the median and maximum number of user_article interactios below\n",
    "\n",
    "median_val = 3 # 50% of individuals interact with ____ number of articles or fewer.\n",
    "max_views_by_user = 364 # The maximum number of user-article interactions by any 1 user is ______."
   ]
  },
  {
   "cell_type": "markdown",
   "metadata": {},
   "source": [
    "`2.` Explore and remove duplicate articles from the **df_content** dataframe.  "
   ]
  },
  {
   "cell_type": "code",
   "execution_count": 19,
   "metadata": {},
   "outputs": [
    {
     "data": {
      "text/html": [
       "<div>\n",
       "<style scoped>\n",
       "    .dataframe tbody tr th:only-of-type {\n",
       "        vertical-align: middle;\n",
       "    }\n",
       "\n",
       "    .dataframe tbody tr th {\n",
       "        vertical-align: top;\n",
       "    }\n",
       "\n",
       "    .dataframe thead th {\n",
       "        text-align: right;\n",
       "    }\n",
       "</style>\n",
       "<table border=\"1\" class=\"dataframe\">\n",
       "  <thead>\n",
       "    <tr style=\"text-align: right;\">\n",
       "      <th></th>\n",
       "      <th>doc_body</th>\n",
       "      <th>doc_description</th>\n",
       "      <th>doc_full_name</th>\n",
       "      <th>doc_status</th>\n",
       "      <th>article_id</th>\n",
       "    </tr>\n",
       "  </thead>\n",
       "  <tbody>\n",
       "    <tr>\n",
       "      <th>365</th>\n",
       "      <td>Follow Sign in / Sign up Home About Insight Da...</td>\n",
       "      <td>During the seven-week Insight Data Engineering...</td>\n",
       "      <td>Graph-based machine learning</td>\n",
       "      <td>Live</td>\n",
       "      <td>50</td>\n",
       "    </tr>\n",
       "    <tr>\n",
       "      <th>692</th>\n",
       "      <td>Homepage Follow Sign in / Sign up Homepage * H...</td>\n",
       "      <td>One of the earliest documented catalogs was co...</td>\n",
       "      <td>How smart catalogs can turn the big data flood...</td>\n",
       "      <td>Live</td>\n",
       "      <td>221</td>\n",
       "    </tr>\n",
       "    <tr>\n",
       "      <th>761</th>\n",
       "      <td>Homepage Follow Sign in Get started Homepage *...</td>\n",
       "      <td>Today’s world of data science leverages data f...</td>\n",
       "      <td>Using Apache Spark as a parallel processing fr...</td>\n",
       "      <td>Live</td>\n",
       "      <td>398</td>\n",
       "    </tr>\n",
       "    <tr>\n",
       "      <th>970</th>\n",
       "      <td>This video shows you how to construct queries ...</td>\n",
       "      <td>This video shows you how to construct queries ...</td>\n",
       "      <td>Use the Primary Index</td>\n",
       "      <td>Live</td>\n",
       "      <td>577</td>\n",
       "    </tr>\n",
       "    <tr>\n",
       "      <th>971</th>\n",
       "      <td>Homepage Follow Sign in Get started * Home\\r\\n...</td>\n",
       "      <td>If you are like most data scientists, you are ...</td>\n",
       "      <td>Self-service data preparation with IBM Data Re...</td>\n",
       "      <td>Live</td>\n",
       "      <td>232</td>\n",
       "    </tr>\n",
       "  </tbody>\n",
       "</table>\n",
       "</div>"
      ],
      "text/plain": [
       "                                              doc_body  \\\n",
       "365  Follow Sign in / Sign up Home About Insight Da...   \n",
       "692  Homepage Follow Sign in / Sign up Homepage * H...   \n",
       "761  Homepage Follow Sign in Get started Homepage *...   \n",
       "970  This video shows you how to construct queries ...   \n",
       "971  Homepage Follow Sign in Get started * Home\\r\\n...   \n",
       "\n",
       "                                       doc_description  \\\n",
       "365  During the seven-week Insight Data Engineering...   \n",
       "692  One of the earliest documented catalogs was co...   \n",
       "761  Today’s world of data science leverages data f...   \n",
       "970  This video shows you how to construct queries ...   \n",
       "971  If you are like most data scientists, you are ...   \n",
       "\n",
       "                                         doc_full_name doc_status  article_id  \n",
       "365                       Graph-based machine learning       Live          50  \n",
       "692  How smart catalogs can turn the big data flood...       Live         221  \n",
       "761  Using Apache Spark as a parallel processing fr...       Live         398  \n",
       "970                              Use the Primary Index       Live         577  \n",
       "971  Self-service data preparation with IBM Data Re...       Live         232  "
      ]
     },
     "execution_count": 19,
     "metadata": {},
     "output_type": "execute_result"
    }
   ],
   "source": [
    "# Find and explore duplicate articles\n",
    "duplicates = df_content[df_content['article_id'].duplicated(keep='first')]\n",
    "duplicates"
   ]
  },
  {
   "cell_type": "code",
   "execution_count": 20,
   "metadata": {},
   "outputs": [
    {
     "data": {
      "text/html": [
       "<div>\n",
       "<style scoped>\n",
       "    .dataframe tbody tr th:only-of-type {\n",
       "        vertical-align: middle;\n",
       "    }\n",
       "\n",
       "    .dataframe tbody tr th {\n",
       "        vertical-align: top;\n",
       "    }\n",
       "\n",
       "    .dataframe thead th {\n",
       "        text-align: right;\n",
       "    }\n",
       "</style>\n",
       "<table border=\"1\" class=\"dataframe\">\n",
       "  <thead>\n",
       "    <tr style=\"text-align: right;\">\n",
       "      <th></th>\n",
       "      <th>doc_body</th>\n",
       "      <th>doc_description</th>\n",
       "      <th>doc_full_name</th>\n",
       "      <th>doc_status</th>\n",
       "      <th>article_id</th>\n",
       "    </tr>\n",
       "  </thead>\n",
       "  <tbody>\n",
       "    <tr>\n",
       "      <th>0</th>\n",
       "      <td>Skip navigation Sign in SearchLoading...\\r\\n\\r...</td>\n",
       "      <td>Detect bad readings in real time using Python ...</td>\n",
       "      <td>Detect Malfunctioning IoT Sensors with Streami...</td>\n",
       "      <td>Live</td>\n",
       "      <td>0</td>\n",
       "    </tr>\n",
       "    <tr>\n",
       "      <th>1</th>\n",
       "      <td>No Free Hunch Navigation * kaggle.com\\r\\n\\r\\n ...</td>\n",
       "      <td>See the forest, see the trees. Here lies the c...</td>\n",
       "      <td>Communicating data science: A guide to present...</td>\n",
       "      <td>Live</td>\n",
       "      <td>1</td>\n",
       "    </tr>\n",
       "    <tr>\n",
       "      <th>2</th>\n",
       "      <td>☰ * Login\\r\\n * Sign Up\\r\\n\\r\\n * Learning Pat...</td>\n",
       "      <td>Here’s this week’s news in Data Science and Bi...</td>\n",
       "      <td>This Week in Data Science (April 18, 2017)</td>\n",
       "      <td>Live</td>\n",
       "      <td>2</td>\n",
       "    </tr>\n",
       "    <tr>\n",
       "      <th>3</th>\n",
       "      <td>DATALAYER: HIGH THROUGHPUT, LOW LATENCY AT SCA...</td>\n",
       "      <td>Learn how distributed DBs solve the problem of...</td>\n",
       "      <td>DataLayer Conference: Boost the performance of...</td>\n",
       "      <td>Live</td>\n",
       "      <td>3</td>\n",
       "    </tr>\n",
       "    <tr>\n",
       "      <th>4</th>\n",
       "      <td>Skip navigation Sign in SearchLoading...\\r\\n\\r...</td>\n",
       "      <td>This video demonstrates the power of IBM DataS...</td>\n",
       "      <td>Analyze NY Restaurant data using Spark in DSX</td>\n",
       "      <td>Live</td>\n",
       "      <td>4</td>\n",
       "    </tr>\n",
       "  </tbody>\n",
       "</table>\n",
       "</div>"
      ],
      "text/plain": [
       "                                            doc_body  \\\n",
       "0  Skip navigation Sign in SearchLoading...\\r\\n\\r...   \n",
       "1  No Free Hunch Navigation * kaggle.com\\r\\n\\r\\n ...   \n",
       "2  ☰ * Login\\r\\n * Sign Up\\r\\n\\r\\n * Learning Pat...   \n",
       "3  DATALAYER: HIGH THROUGHPUT, LOW LATENCY AT SCA...   \n",
       "4  Skip navigation Sign in SearchLoading...\\r\\n\\r...   \n",
       "\n",
       "                                     doc_description  \\\n",
       "0  Detect bad readings in real time using Python ...   \n",
       "1  See the forest, see the trees. Here lies the c...   \n",
       "2  Here’s this week’s news in Data Science and Bi...   \n",
       "3  Learn how distributed DBs solve the problem of...   \n",
       "4  This video demonstrates the power of IBM DataS...   \n",
       "\n",
       "                                       doc_full_name doc_status  article_id  \n",
       "0  Detect Malfunctioning IoT Sensors with Streami...       Live           0  \n",
       "1  Communicating data science: A guide to present...       Live           1  \n",
       "2         This Week in Data Science (April 18, 2017)       Live           2  \n",
       "3  DataLayer Conference: Boost the performance of...       Live           3  \n",
       "4      Analyze NY Restaurant data using Spark in DSX       Live           4  "
      ]
     },
     "execution_count": 20,
     "metadata": {},
     "output_type": "execute_result"
    }
   ],
   "source": [
    "# Remove any rows that have the same article_id - only keep the first\n",
    "df_content_dupl_removed = df_content.drop(duplicates.index, axis = 0)\n",
    "df_content_dupl_removed.head()"
   ]
  },
  {
   "cell_type": "markdown",
   "metadata": {},
   "source": [
    "`3.` Use the cells below to find:\n",
    "\n",
    "**a.** The number of unique articles that have an interaction with a user.  \n",
    "**b.** The number of unique articles in the dataset (whether they have any interactions or not).<br>\n",
    "**c.** The number of unique users in the dataset. (excluding null values) <br>\n",
    "**d.** The number of user-article interactions in the dataset."
   ]
  },
  {
   "cell_type": "code",
   "execution_count": 21,
   "metadata": {},
   "outputs": [
    {
     "data": {
      "text/html": [
       "<div>\n",
       "<style scoped>\n",
       "    .dataframe tbody tr th:only-of-type {\n",
       "        vertical-align: middle;\n",
       "    }\n",
       "\n",
       "    .dataframe tbody tr th {\n",
       "        vertical-align: top;\n",
       "    }\n",
       "\n",
       "    .dataframe thead th {\n",
       "        text-align: right;\n",
       "    }\n",
       "</style>\n",
       "<table border=\"1\" class=\"dataframe\">\n",
       "  <thead>\n",
       "    <tr style=\"text-align: right;\">\n",
       "      <th></th>\n",
       "      <th>article_id</th>\n",
       "      <th>email</th>\n",
       "    </tr>\n",
       "  </thead>\n",
       "  <tbody>\n",
       "    <tr>\n",
       "      <th>0</th>\n",
       "      <td>0</td>\n",
       "      <td>384255292a8223e84f05ca1e1deaa450c993e148</td>\n",
       "    </tr>\n",
       "    <tr>\n",
       "      <th>1</th>\n",
       "      <td>0</td>\n",
       "      <td>384255292a8223e84f05ca1e1deaa450c993e148</td>\n",
       "    </tr>\n",
       "    <tr>\n",
       "      <th>2</th>\n",
       "      <td>0</td>\n",
       "      <td>384255292a8223e84f05ca1e1deaa450c993e148</td>\n",
       "    </tr>\n",
       "    <tr>\n",
       "      <th>3</th>\n",
       "      <td>0</td>\n",
       "      <td>db8ac9b2f552db35750239ada8bfcb59b3ae48c0</td>\n",
       "    </tr>\n",
       "    <tr>\n",
       "      <th>4</th>\n",
       "      <td>0</td>\n",
       "      <td>74ca1ae8b034f7fad73a54d55fb1f58747f00493</td>\n",
       "    </tr>\n",
       "  </tbody>\n",
       "</table>\n",
       "</div>"
      ],
      "text/plain": [
       "   article_id                                     email\n",
       "0           0  384255292a8223e84f05ca1e1deaa450c993e148\n",
       "1           0  384255292a8223e84f05ca1e1deaa450c993e148\n",
       "2           0  384255292a8223e84f05ca1e1deaa450c993e148\n",
       "3           0  db8ac9b2f552db35750239ada8bfcb59b3ae48c0\n",
       "4           0  74ca1ae8b034f7fad73a54d55fb1f58747f00493"
      ]
     },
     "execution_count": 21,
     "metadata": {},
     "output_type": "execute_result"
    }
   ],
   "source": [
    "#merge both datasets together on the 'article_id'\n",
    "df_merged = df_content_dupl_removed[['article_id']].merge(df[['article_id', 'email']], how = 'outer', on = ['article_id'])\n",
    "df_merged.head()"
   ]
  },
  {
   "cell_type": "code",
   "execution_count": 22,
   "metadata": {},
   "outputs": [
    {
     "data": {
      "text/plain": [
       "714"
      ]
     },
     "execution_count": 22,
     "metadata": {},
     "output_type": "execute_result"
    }
   ],
   "source": [
    "#check number of articles which have one interaction\n",
    "#len(df_content) - len(df_merged[df_merged['email'].isnull()])\n",
    "df_merged[df_merged['email'].isnull()==False]['article_id'].nunique()"
   ]
  },
  {
   "cell_type": "code",
   "execution_count": 23,
   "metadata": {},
   "outputs": [
    {
     "data": {
      "text/plain": [
       "5148"
      ]
     },
     "execution_count": 23,
     "metadata": {},
     "output_type": "execute_result"
    }
   ],
   "source": [
    "# Number of unique users\n",
    "df['email'].nunique()"
   ]
  },
  {
   "cell_type": "code",
   "execution_count": 24,
   "metadata": {},
   "outputs": [
    {
     "data": {
      "text/plain": [
       "1051"
      ]
     },
     "execution_count": 24,
     "metadata": {},
     "output_type": "execute_result"
    }
   ],
   "source": [
    "# Number of unique articles on the IBM platform\n",
    "df_content['article_id'].nunique()"
   ]
  },
  {
   "cell_type": "code",
   "execution_count": 25,
   "metadata": {},
   "outputs": [
    {
     "data": {
      "text/plain": [
       "45993"
      ]
     },
     "execution_count": 25,
     "metadata": {},
     "output_type": "execute_result"
    }
   ],
   "source": [
    "# Number of user article interactions\n",
    "len(df)"
   ]
  },
  {
   "cell_type": "code",
   "execution_count": 26,
   "metadata": {},
   "outputs": [],
   "source": [
    "unique_articles = 714 # 425# The number of unique articles that have at least one interaction\n",
    "total_articles = 1051 # The number of unique articles on the IBM platform\n",
    "unique_users = 5148 # The number of unique users\n",
    "user_article_interactions = 45993 # The number of user-article interactions"
   ]
  },
  {
   "cell_type": "markdown",
   "metadata": {},
   "source": [
    "`4.` Use the cells below to find the most viewed **article_id**, as well as how often it was viewed.  After talking to the company leaders, the `email_mapper` function was deemed a reasonable way to map users to ids.  There were a small number of null values, and it was found that all of these null values likely belonged to a single user (which is how they are stored using the function below)."
   ]
  },
  {
   "cell_type": "code",
   "execution_count": 27,
   "metadata": {},
   "outputs": [
    {
     "data": {
      "text/plain": [
       "1429.0"
      ]
     },
     "execution_count": 27,
     "metadata": {},
     "output_type": "execute_result"
    }
   ],
   "source": [
    "#get article_id of most viewed article\n",
    "unique, counts = np.unique(df_merged['article_id'], return_counts=True)\n",
    "articles_dict = dict(zip(unique, counts))\n",
    "max_key = max(articles_dict, key=articles_dict.get)\n",
    "df[df['article_id']==max_key]['article_id'][2]"
   ]
  },
  {
   "cell_type": "code",
   "execution_count": 28,
   "metadata": {},
   "outputs": [
    {
     "data": {
      "text/plain": [
       "937"
      ]
     },
     "execution_count": 28,
     "metadata": {},
     "output_type": "execute_result"
    }
   ],
   "source": [
    "# Number of views of the most viewed article\n",
    "articles_dict[max_key]"
   ]
  },
  {
   "cell_type": "code",
   "execution_count": 29,
   "metadata": {},
   "outputs": [],
   "source": [
    "most_viewed_article_id = '1429.0' # The most viewed article in the dataset as a string with one value following the decimal \n",
    "max_views = 937 # The most viewed article in the dataset was viewed how many times?"
   ]
  },
  {
   "cell_type": "code",
   "execution_count": 30,
   "metadata": {},
   "outputs": [
    {
     "data": {
      "text/html": [
       "<div>\n",
       "<style scoped>\n",
       "    .dataframe tbody tr th:only-of-type {\n",
       "        vertical-align: middle;\n",
       "    }\n",
       "\n",
       "    .dataframe tbody tr th {\n",
       "        vertical-align: top;\n",
       "    }\n",
       "\n",
       "    .dataframe thead th {\n",
       "        text-align: right;\n",
       "    }\n",
       "</style>\n",
       "<table border=\"1\" class=\"dataframe\">\n",
       "  <thead>\n",
       "    <tr style=\"text-align: right;\">\n",
       "      <th></th>\n",
       "      <th>article_id</th>\n",
       "      <th>title</th>\n",
       "      <th>user_id</th>\n",
       "    </tr>\n",
       "  </thead>\n",
       "  <tbody>\n",
       "    <tr>\n",
       "      <th>0</th>\n",
       "      <td>1430.0</td>\n",
       "      <td>using pixiedust for fast, flexible, and easier...</td>\n",
       "      <td>1</td>\n",
       "    </tr>\n",
       "    <tr>\n",
       "      <th>1</th>\n",
       "      <td>1314.0</td>\n",
       "      <td>healthcare python streaming application demo</td>\n",
       "      <td>2</td>\n",
       "    </tr>\n",
       "    <tr>\n",
       "      <th>2</th>\n",
       "      <td>1429.0</td>\n",
       "      <td>use deep learning for image classification</td>\n",
       "      <td>3</td>\n",
       "    </tr>\n",
       "    <tr>\n",
       "      <th>3</th>\n",
       "      <td>1338.0</td>\n",
       "      <td>ml optimization using cognitive assistant</td>\n",
       "      <td>4</td>\n",
       "    </tr>\n",
       "    <tr>\n",
       "      <th>4</th>\n",
       "      <td>1276.0</td>\n",
       "      <td>deploy your python model as a restful api</td>\n",
       "      <td>5</td>\n",
       "    </tr>\n",
       "  </tbody>\n",
       "</table>\n",
       "</div>"
      ],
      "text/plain": [
       "   article_id                                              title  user_id\n",
       "0      1430.0  using pixiedust for fast, flexible, and easier...        1\n",
       "1      1314.0       healthcare python streaming application demo        2\n",
       "2      1429.0         use deep learning for image classification        3\n",
       "3      1338.0          ml optimization using cognitive assistant        4\n",
       "4      1276.0          deploy your python model as a restful api        5"
      ]
     },
     "execution_count": 30,
     "metadata": {},
     "output_type": "execute_result"
    }
   ],
   "source": [
    "## No need to change the code here - this will be helpful for later parts of the notebook\n",
    "# Run this cell to map the user email to a user_id column and remove the email column\n",
    "\n",
    "def email_mapper():\n",
    "    coded_dict = dict()\n",
    "    cter = 1\n",
    "    email_encoded = []\n",
    "    \n",
    "    for val in df['email']:\n",
    "        if val not in coded_dict:\n",
    "            coded_dict[val] = cter\n",
    "            cter+=1\n",
    "        \n",
    "        email_encoded.append(coded_dict[val])\n",
    "    return email_encoded\n",
    "\n",
    "email_encoded = email_mapper()\n",
    "del df['email']\n",
    "df['user_id'] = email_encoded\n",
    "\n",
    "# show header\n",
    "df.head()"
   ]
  },
  {
   "cell_type": "code",
   "execution_count": 31,
   "metadata": {},
   "outputs": [
    {
     "name": "stdout",
     "output_type": "stream",
     "text": [
      "It looks like you have everything right here! Nice job!\n"
     ]
    }
   ],
   "source": [
    "## If you stored all your results in the variable names above, \n",
    "## you shouldn't need to change anything in this cell\n",
    "\n",
    "sol_1_dict = {\n",
    "    '`50% of individuals have _____ or fewer interactions.`': median_val,\n",
    "    '`The total number of user-article interactions in the dataset is ______.`': user_article_interactions,\n",
    "    '`The maximum number of user-article interactions by any 1 user is ______.`': max_views_by_user,\n",
    "    '`The most viewed article in the dataset was viewed _____ times.`': max_views,\n",
    "    '`The article_id of the most viewed article is ______.`': most_viewed_article_id,\n",
    "    '`The number of unique articles that have at least 1 rating ______.`': unique_articles,\n",
    "    '`The number of unique users in the dataset is ______`': unique_users,\n",
    "    '`The number of unique articles on the IBM platform`': total_articles\n",
    "}\n",
    "\n",
    "# Test your dictionary against the solution\n",
    "t.sol_1_test(sol_1_dict)"
   ]
  },
  {
   "cell_type": "markdown",
   "metadata": {},
   "source": [
    "### <a class=\"anchor\" id=\"Rank\">Part II: Rank-Based Recommendations</a>\n",
    "\n",
    "Unlike in the earlier lessons, we don't actually have ratings for whether a user liked an article or not.  We only know that a user has interacted with an article.  In these cases, the popularity of an article can really only be based on how often an article was interacted with.\n",
    "\n",
    "`1.` Fill in the function below to return the **n** top articles ordered with most interactions as the top. Test your function using the tests below."
   ]
  },
  {
   "cell_type": "code",
   "execution_count": 32,
   "metadata": {},
   "outputs": [],
   "source": [
    "def get_top_articles(n, df=df):\n",
    "    '''\n",
    "    INPUT:\n",
    "    n - (int) the number of top articles to return\n",
    "    df - (pandas dataframe) df as defined at the top of the notebook \n",
    "    \n",
    "    OUTPUT:\n",
    "    top_articles - (list) A list of the top 'n' article titles \n",
    "    \n",
    "    '''\n",
    "    top_articles = list(df['title'].value_counts().index)[:n]\n",
    "    \n",
    "    return top_articles # Return the top article titles from df (not df_content)\n",
    "\n",
    "def get_top_article_ids(n, df=df):\n",
    "    '''\n",
    "    INPUT:\n",
    "    n - (int) the number of top articles to return\n",
    "    df - (pandas dataframe) df as defined at the top of the notebook \n",
    "    \n",
    "    OUTPUT:\n",
    "    top_articles - (list) A list of the top 'n' article titles \n",
    "    \n",
    "    '''\n",
    "    top_articles_temp = list(df['article_id'].value_counts().index)[:n]\n",
    "    top_articles = [str(int) for int in top_articles_temp]\n",
    " \n",
    "    return top_articles # Return the top article ids"
   ]
  },
  {
   "cell_type": "code",
   "execution_count": 33,
   "metadata": {},
   "outputs": [
    {
     "name": "stdout",
     "output_type": "stream",
     "text": [
      "['use deep learning for image classification', 'insights from new york car accident reports', 'visualize car data with brunel', 'use xgboost, scikit-learn & ibm watson machine learning apis', 'predicting churn with the spss random tree algorithm', 'healthcare python streaming application demo', 'finding optimal locations of new store using decision optimization', 'apache spark lab, part 1: basic concepts', 'analyze energy consumption in buildings', 'gosales transactions for logistic regression model']\n",
      "['1429.0', '1330.0', '1431.0', '1427.0', '1364.0', '1314.0', '1293.0', '1170.0', '1162.0', '1304.0']\n"
     ]
    }
   ],
   "source": [
    "print(get_top_articles(10))\n",
    "print(get_top_article_ids(10))"
   ]
  },
  {
   "cell_type": "code",
   "execution_count": 34,
   "metadata": {},
   "outputs": [
    {
     "name": "stdout",
     "output_type": "stream",
     "text": [
      "Your top_5 looks like the solution list! Nice job.\n",
      "Your top_10 looks like the solution list! Nice job.\n",
      "Your top_20 looks like the solution list! Nice job.\n"
     ]
    }
   ],
   "source": [
    "# Test your function by returning the top 5, 10, and 20 articles\n",
    "top_5 = get_top_articles(5)\n",
    "top_10 = get_top_articles(10)\n",
    "top_20 = get_top_articles(20)\n",
    "\n",
    "# Test each of your three lists from above\n",
    "t.sol_2_test(get_top_articles)"
   ]
  },
  {
   "cell_type": "markdown",
   "metadata": {},
   "source": [
    "### <a class=\"anchor\" id=\"User-User\">Part III: User-User Based Collaborative Filtering</a>\n",
    "\n",
    "\n",
    "`1.` Use the function below to reformat the **df** dataframe to be shaped with users as the rows and articles as the columns.  \n",
    "\n",
    "* Each **user** should only appear in each **row** once.\n",
    "\n",
    "\n",
    "* Each **article** should only show up in one **column**.  \n",
    "\n",
    "\n",
    "* **If a user has interacted with an article, then place a 1 where the user-row meets for that article-column**.  It does not matter how many times a user has interacted with the article, all entries where a user has interacted with an article should be a 1.  \n",
    "\n",
    "\n",
    "* **If a user has not interacted with an item, then place a zero where the user-row meets for that article-column**. \n",
    "\n",
    "Use the tests to make sure the basic structure of your matrix matches what is expected by the solution."
   ]
  },
  {
   "cell_type": "code",
   "execution_count": 35,
   "metadata": {},
   "outputs": [],
   "source": [
    "# create the user-article matrix with 1's and 0's\n",
    "\n",
    "def create_user_item_matrix(df):\n",
    "    '''\n",
    "    INPUT:\n",
    "    df - pandas dataframe with article_id, title, user_id columns\n",
    "    \n",
    "    OUTPUT:\n",
    "    user_item - user item matrix \n",
    "    \n",
    "    Description:\n",
    "    Return a matrix with user ids as rows and article ids on the columns with 1 values where a user interacted with \n",
    "    an article and a 0 otherwise\n",
    "    '''\n",
    "    # Unique users\n",
    "    n_users = df['user_id'].unique().shape[0]\n",
    "    \n",
    "    # Unique articles\n",
    "    n_articles = df['article_id'].unique().shape[0]\n",
    "    \n",
    "    # Change the id's to int\n",
    "    df_temp = df[['user_id', 'article_id']].astype('int')\n",
    "    \n",
    "    # Add a value column with 1's, so that we can use the pivot table\n",
    "    df_temp['value'] = 1\n",
    "    user_item = pd.pivot_table(df_temp, index = 'user_id', columns='article_id')\n",
    "    \n",
    "    # Fill the nan's with zeros\n",
    "    user_item = user_item.fillna(0)\n",
    "    user_item = user_item.astype('int')\n",
    "    \n",
    "    return user_item.value # return the user_item matrix \n",
    "\n",
    "user_item = create_user_item_matrix(df)"
   ]
  },
  {
   "cell_type": "code",
   "execution_count": 36,
   "metadata": {},
   "outputs": [
    {
     "name": "stdout",
     "output_type": "stream",
     "text": [
      "You have passed our quick tests!  Please proceed!\n"
     ]
    }
   ],
   "source": [
    "## Tests: You should just need to run this cell.  Don't change the code.\n",
    "assert user_item.shape[0] == 5149, \"Oops!  The number of users in the user-article matrix doesn't look right.\"\n",
    "assert user_item.shape[1] == 714, \"Oops!  The number of articles in the user-article matrix doesn't look right.\"\n",
    "assert user_item.sum(axis=1)[1] == 36, \"Oops!  The number of articles seen by user 1 doesn't look right.\"\n",
    "print(\"You have passed our quick tests!  Please proceed!\")"
   ]
  },
  {
   "cell_type": "markdown",
   "metadata": {},
   "source": [
    "`2.` Complete the function below which should take a user_id and provide an ordered list of the most similar users to that user (from most similar to least similar).  The returned result should not contain the provided user_id, as we know that each user is similar to him/herself. Because the results for each user here are binary, it (perhaps) makes sense to compute similarity as the dot product of two users. \n",
    "\n",
    "Use the tests to test your function."
   ]
  },
  {
   "cell_type": "code",
   "execution_count": 37,
   "metadata": {},
   "outputs": [],
   "source": [
    "def find_similar_users(user_id, user_item=user_item):\n",
    "    '''\n",
    "    INPUT:\n",
    "    user_id - (int) a user_id\n",
    "    user_item - (pandas dataframe) matrix of users by articles: \n",
    "                1's when a user has interacted with an article, 0 otherwise\n",
    "    \n",
    "    OUTPUT:\n",
    "    similar_users - (list) an ordered list where the closest users (largest dot product users)\n",
    "                    are listed first\n",
    "    \n",
    "    Description:\n",
    "    Computes the similarity of every pair of users based on the dot product\n",
    "    Returns an ordered\n",
    "    \n",
    "    '''\n",
    "    \n",
    "    # compute similarity of each user to the provided user\n",
    "    similar_mat = user_item.dot(user_item.loc[user_id].T)\n",
    "      \n",
    "    \"\"\"\n",
    "    My old version:\n",
    "    \n",
    "    user1 = user_item.iloc[user_id-1]\n",
    "    empt_dict = {}\n",
    "    for i in range(user_item.shape[0]):\n",
    "        dotprod = user1.dot(user_item.iloc[i-1])\n",
    "        empt_dict[i] = dotprod\n",
    "    \"\"\"\n",
    "    \n",
    "    # sort by similarity\n",
    "    most_similar_users = similar_mat.sort_values(ascending=False).index.tolist()\n",
    "    most_similar_users.remove(user_id)\n",
    "    \n",
    "    return most_similar_users, similar_mat #most_similar_users , similarity # return a list of the users in order from most to least similar and\n",
    "                                          # a list with the users id's and the similarity."
   ]
  },
  {
   "cell_type": "code",
   "execution_count": 38,
   "metadata": {},
   "outputs": [
    {
     "name": "stdout",
     "output_type": "stream",
     "text": [
      "The 10 most similar users to user 1 are: [3933, 23, 3782, 203, 4459, 131, 3870, 46, 4201, 5041]\n",
      "The 5 most similar users to user 3933 are: [1, 23, 3782, 4459, 203]\n",
      "The 3 most similar users to user 46 are: [4201, 23, 3782]\n"
     ]
    }
   ],
   "source": [
    "# Do a spot check of your function\n",
    "print(\"The 10 most similar users to user 1 are: {}\".format(find_similar_users(1)[0][:10]))\n",
    "print(\"The 5 most similar users to user 3933 are: {}\".format(find_similar_users(3933)[0][:5]))\n",
    "print(\"The 3 most similar users to user 46 are: {}\".format(find_similar_users(46)[0][:3]))"
   ]
  },
  {
   "cell_type": "markdown",
   "metadata": {},
   "source": [
    "`3.` Now that you have a function that provides the most similar users to each user, you will want to use these users to find articles you can recommend.  Complete the functions below to return the articles you would recommend to each user. "
   ]
  },
  {
   "cell_type": "code",
   "execution_count": 39,
   "metadata": {},
   "outputs": [],
   "source": [
    "def get_article_names(article_ids, df=df):\n",
    "    '''\n",
    "    INPUT:\n",
    "    article_ids - (list) a list of article ids\n",
    "    df - (pandas dataframe) df as defined at the top of the notebook\n",
    "    \n",
    "    OUTPUT:\n",
    "    article_names - (list) a list of article names associated with the list of article ids \n",
    "                    (this is identified by the title column)\n",
    "    '''\n",
    "    # Find the names which are related to the article_id's\n",
    "    article_names = df[df['article_id'].isin(article_ids)]['title'].unique()\n",
    "    \n",
    "    return article_names # Return the article names associated with list of article ids\n",
    "\n",
    "\n",
    "def get_user_articles(user_id, user_item=user_item):\n",
    "    '''\n",
    "    INPUT:\n",
    "    user_id - (int) a user id\n",
    "    user_item - (pandas dataframe) matrix of users by articles: \n",
    "                1's when a user has interacted with an article, 0 otherwise\n",
    "    \n",
    "    OUTPUT:\n",
    "    article_ids - (list) a list of the article ids seen by the user\n",
    "    article_names - (list) a list of article names associated with the list of article ids \n",
    "                    (this is identified by the doc_full_name column in df_content)\n",
    "    \n",
    "    Description:\n",
    "    Provides a list of the article_ids and article titles that have been seen by a user\n",
    "    '''\n",
    "    # Find the articles which the user has interacted with\n",
    "    article_ids_temp = user_item[user_item>0].iloc[user_id-1].dropna().index\n",
    "    \n",
    "    # Change the id's to strings\n",
    "    article_ids = [str(int) for int in article_ids_temp]\n",
    "    \n",
    "    # Call the earlier function to receive the names related to the id's\n",
    "    article_names = get_article_names(article_ids)\n",
    "    \n",
    "    return article_ids, article_names # return the ids and names\n",
    "\n",
    "\n",
    "def user_user_recs(user_id, m=10):\n",
    "    '''\n",
    "    INPUT:\n",
    "    user_id - (int) a user id\n",
    "    m - (int) the number of recommendations you want for the user\n",
    "    \n",
    "    OUTPUT:\n",
    "    recs - (list) a list of recommendations for the user\n",
    "    \n",
    "    Description:\n",
    "    Loops through the users based on closeness to the input user_id\n",
    "    For each user - finds articles the user hasn't seen before and provides them as recs\n",
    "    Does this until m recommendations are found\n",
    "    \n",
    "    Notes:\n",
    "    Users who are the same closeness are chosen arbitrarily as the 'next' user\n",
    "    \n",
    "    For the user where the number of recommended articles starts below m \n",
    "    and ends exceeding m, the last items are chosen arbitrarily\n",
    "    \n",
    "    '''\n",
    "    # Find the articles the user has already seen\n",
    "    article_ids_seen, article_names_seen = get_user_articles(user_id)\n",
    "    \n",
    "    # Find the closest neighbors of that user\n",
    "    closest_neighbors, similarity = find_similar_users(user_id)\n",
    "    \n",
    "    # Initiate the recommendation array\n",
    "    recs = np.array([])\n",
    "        \n",
    "    # Loop through every neighbor and check the articles the neighbor has seen but not the user.\n",
    "    # Save these articles in the recommendation array. Stop if m articles has been reached.\n",
    "    for neighbor in closest_neighbors:\n",
    "        neighbor_likes_ids, neigbor_likes_names = get_user_articles(neighbor)\n",
    "        \n",
    "        new_recs = np.setdiff1d(neighbor_likes_ids, article_ids_seen, assume_unique = True)\n",
    "        \n",
    "        recs = np.unique(np.concatenate(([new_recs, recs]), axis = 0))\n",
    "        \n",
    "        if len(recs) > m - 1:\n",
    "            break\n",
    "    \n",
    "    return recs[:m] # return your recommendations for this user_id    "
   ]
  },
  {
   "cell_type": "code",
   "execution_count": 40,
   "metadata": {},
   "outputs": [
    {
     "data": {
      "text/plain": [
       "array(['access mysql with r',\n",
       "       'analyze accident reports on amazon emr spark',\n",
       "       '520    using notebooks with pixiedust for fast, flexi...\\nName: title, dtype: object',\n",
       "       'pixiedust: magic for your python notebook',\n",
       "       'a comparison of logistic regression and naive bayes ',\n",
       "       'practical tutorial on random forest and parameter tuning in r',\n",
       "       'how to choose a project to practice data science',\n",
       "       'data tidying in data science experience',\n",
       "       '7 types of job profiles that makes you a data scientist',\n",
       "       'airbnb data for analytics: new york city reviews'], dtype=object)"
      ]
     },
     "execution_count": 40,
     "metadata": {},
     "output_type": "execute_result"
    }
   ],
   "source": [
    "# Check Results\n",
    "get_article_names(user_user_recs(2, 10)) # Return 10 recommendations for user 1"
   ]
  },
  {
   "cell_type": "code",
   "execution_count": 41,
   "metadata": {},
   "outputs": [
    {
     "name": "stdout",
     "output_type": "stream",
     "text": [
      "If this is all you see, you passed all of our tests!  Nice job!\n"
     ]
    }
   ],
   "source": [
    "# Test your functions here - No need to change this code - just run this cell\n",
    "assert set(get_article_names(['1024.0', '1176.0', '1305.0', '1314.0', '1422.0', '1427.0'])) == set(['using deep learning to reconstruct high-resolution audio', 'build a python app on the streaming analytics service', 'gosales transactions for naive bayes model', 'healthcare python streaming application demo', 'use r dataframes & ibm watson natural language understanding', 'use xgboost, scikit-learn & ibm watson machine learning apis']), \"Oops! Your the get_article_names function doesn't work quite how we expect.\"\n",
    "assert set(get_article_names(['1320.0', '232.0', '844.0'])) == set(['housing (2015): united states demographic measures','self-service data preparation with ibm data refinery','use the cloudant-spark connector in python notebook']), \"Oops! Your the get_article_names function doesn't work quite how we expect.\"\n",
    "assert set(get_user_articles(20)[0]) == set(['1320', '232', '844'])\n",
    "assert set(get_user_articles(20)[1]) == set(['housing (2015): united states demographic measures', 'self-service data preparation with ibm data refinery','use the cloudant-spark connector in python notebook'])\n",
    "assert set(get_user_articles(2)[0]) == set(['1024', '1176', '1305', '1314', '1422', '1427'])\n",
    "assert set(get_user_articles(2)[1]) == set(['using deep learning to reconstruct high-resolution audio', 'build a python app on the streaming analytics service', 'gosales transactions for naive bayes model', 'healthcare python streaming application demo', 'use r dataframes & ibm watson natural language understanding', 'use xgboost, scikit-learn & ibm watson machine learning apis'])\n",
    "print(\"If this is all you see, you passed all of our tests!  Nice job!\")"
   ]
  },
  {
   "cell_type": "markdown",
   "metadata": {},
   "source": [
    "`4.` Now we are going to improve the consistency of the **user_user_recs** function from above.  \n",
    "\n",
    "* Instead of arbitrarily choosing when we obtain users who are all the same closeness to a given user - choose the users that have the most total article interactions before choosing those with fewer article interactions.\n",
    "\n",
    "\n",
    "* Instead of arbitrarily choosing articles from the user where the number of recommended articles starts below m and ends exceeding m, choose articles with the articles with the most total interactions before choosing those with fewer total interactions. This ranking should be  what would be obtained from the **top_articles** function you wrote earlier."
   ]
  },
  {
   "cell_type": "code",
   "execution_count": 42,
   "metadata": {},
   "outputs": [],
   "source": [
    "def get_top_sorted_users(user_id, df=df, user_item=user_item):\n",
    "    '''\n",
    "    INPUT:\n",
    "    user_id - (int)\n",
    "    df - (pandas dataframe) df as defined at the top of the notebook \n",
    "    user_item - (pandas dataframe) matrix of users by articles: \n",
    "            1's when a user has interacted with an article, 0 otherwise\n",
    "    \n",
    "            \n",
    "    OUTPUT:\n",
    "    neighbors_df - (pandas dataframe) a dataframe with:\n",
    "                    neighbor_id - is a neighbor user_id\n",
    "                    similarity - measure of the similarity of each user to the provided user_id\n",
    "                    num_interactions - the number of articles viewed by the user - if a u\n",
    "                    \n",
    "    Other Details - sort the neighbors_df by the similarity and then by number of interactions where \n",
    "                    highest of each is higher in the dataframe\n",
    "     \n",
    "    '''\n",
    "    # Find the neighbors and the similarity of the user\n",
    "    neighbors, similarity = find_similar_users(user_id)\n",
    "\n",
    "    # Initiate the number of iteractions array and save the number of interactions of each user in it\n",
    "    num_interactions = []\n",
    "    for i in neighbors:\n",
    "        num_interactions.append(df[df['user_id']==i].shape[0])\n",
    "    \n",
    "    # Create a new dataframe and save the neighbor id, similarity and the number of interactions in it\n",
    "    df_temp = pd.DataFrame(list(zip(neighbors, similarity, num_interactions)), columns=['neighbor_id', 'similarity', 'interactions'])\n",
    "    \n",
    "    # Sort the dataframe by similarity and the number of interactions\n",
    "    neighbors_df = df_temp.sort_values(by=['similarity', 'interactions'], ascending=False)\n",
    "    \n",
    "    return neighbors_df # Return the dataframe specified in the doc_string\n",
    "\n",
    "\n",
    "def user_user_recs_part2(user_id, m=10):\n",
    "    '''\n",
    "    INPUT:\n",
    "    user_id - (int) a user id\n",
    "    m - (int) the number of recommendations you want for the user\n",
    "    \n",
    "    OUTPUT:\n",
    "    recs - (list) a list of recommendations for the user by article id\n",
    "    rec_names - (list) a list of recommendations for the user by article title\n",
    "    \n",
    "    Description:\n",
    "    Loops through the users based on closeness to the input user_id\n",
    "    For each user - finds articles the user hasn't seen before and provides them as recs\n",
    "    Does this until m recommendations are found\n",
    "    \n",
    "    Notes:\n",
    "    * Choose the users that have the most total article interactions \n",
    "    before choosing those with fewer article interactions.\n",
    "\n",
    "    * Choose articles with the articles with the most total interactions \n",
    "    before choosing those with fewer total interactions. \n",
    "   \n",
    "    '''\n",
    "    # Find the articles the user has already seen\n",
    "    article_ids_seen, article_names_seen = get_user_articles(user_id)\n",
    "    \n",
    "    # Find the closest neighbors to the users\n",
    "    closest_neighbors_df = get_top_sorted_users(user_id)\n",
    "    closest_neighbors = closest_neighbors_df['neighbor_id']\n",
    "    \n",
    "    # Initiate recommendation array\n",
    "    recs = np.array([])\n",
    "        \n",
    "    # Loop through every neighbor\n",
    "    for neighbor in closest_neighbors:\n",
    "        \n",
    "        # Find which articles the neighbors has seen\n",
    "        neighbor_likes_ids, neigbor_likes_names = get_user_articles(neighbor)\n",
    "        \n",
    "        # Take the articles which the user has not seen but the neighbor and append it to the rec array\n",
    "        new_recs = np.setdiff1d(neighbor_likes_ids, article_ids_seen, assume_unique = True)\n",
    "        recs = np.unique(np.concatenate(([new_recs, recs]), axis = 0))\n",
    "        \n",
    "        if len(recs) > m:\n",
    "            break\n",
    "    \n",
    "    recs = recs[:m] # if the recommendations are already longer with the first neighbor then cut it\n",
    "    rec_names = get_article_names(list(recs))\n",
    "    \n",
    "    # Resort the found articles of the user by the popularity of the article.\n",
    "    # More popular articles are recommended first\n",
    "    rec_names_sorted = list(df['title'].value_counts().index)\n",
    "    \n",
    "    return recs, rec_names_sorted"
   ]
  },
  {
   "cell_type": "code",
   "execution_count": 43,
   "metadata": {},
   "outputs": [
    {
     "name": "stdout",
     "output_type": "stream",
     "text": [
      "The top 10 recommendations for user 20 are the following article ids:\n",
      "['1165' '1263' '1271' '1274' '1280' '1304' '1328' '1330' '1368' '1400']\n",
      "\n",
      "The top 10 recommendations for user 20 are the following article names:\n",
      "['use deep learning for image classification', 'insights from new york car accident reports', 'visualize car data with brunel', 'use xgboost, scikit-learn & ibm watson machine learning apis', 'predicting churn with the spss random tree algorithm', 'healthcare python streaming application demo', 'finding optimal locations of new store using decision optimization', 'apache spark lab, part 1: basic concepts', 'analyze energy consumption in buildings', 'gosales transactions for logistic regression model', 'welcome to pixiedust', 'customer demographics and sales', 'total population by country', 'deep learning with tensorflow course by big data university', 'model bike sharing data with spss', 'the nurse assignment problem', 'classify tumors with machine learning', 'analyze accident reports on amazon emr spark', 'movie recommender system with spark machine learning', 'putting a human face on machine learning', 'gosales transactions for naive bayes model', 'ml optimization using cognitive assistant', 'learn basics about notebooks and apache spark', 'analyze precipitation data', 'apache spark lab, part 3: machine learning', 'jupyter notebook tutorial', 'deploy your python model as a restful api', 'visualize data with the matplotlib library', 'using pixiedust for fast, flexible, and easier data analysis and experimentation', 'access db2 warehouse on cloud and db2 with python', 'python machine learning: scikit-learn tutorial', 'maximize oil company profits', 'analyze open data sets with spark & pixiedust', 'uci ml repository: chronic kidney disease data set', 'introducing ibm watson studio ', 'analyze open data sets with pandas dataframes', 'working interactively with rstudio and notebooks in dsx', 'rapidly build machine learning flows with dsx', 'the pandas data analysis library', 'learn tensorflow and deep learning together and now!', 'the machine learning database', 'real-time sentiment analysis of twitter hashtags with spark (+ pixiedust)', 'access mysql with r', 'what caused the challenger disaster?', 'access mysql with python', 'pixieapp for outlier detection', 'breast cancer wisconsin (diagnostic) data set', 'apache spark lab, part 2: querying data', 'access ibm analytics for apache spark from rstudio', 'times world university ranking analysis', 'intents & examples for ibm watson conversation', 'data model with streaming analytics and python', 'deep learning with data science experience', 'tensorflow quick tips', 'fortune 100 companies', 'analyzing data by using the sparkling.data library features', 'employed population by occupation and age', 'sudoku', 'small steps to tensorflow', '520    using notebooks with pixiedust for fast, flexi...\\nName: title, dtype: object', 'programmatic evaluation using watson conversation', 'ibm watson facebook posts for 2015', 'data tidying in data science experience', 'the nurse assignment problem data', 'getting started with python', 'build a python app on the streaming analytics service', 'i am not a data scientist – ibm watson data lab', 'categorize urban density', 'use r dataframes & ibm watson natural language understanding', 'housing (2015): united states demographic measures', 'practical tutorial on random forest and parameter tuning in r', 'using deep learning with keras to predict customer churn', 'timeseries data analysis of iot events by using jupyter notebook', 'use sql with data in hadoop python', 'building your first machine learning system ', 'how to map usa rivers using ggplot2', 'using machine learning to predict value of homes on airbnb', 'machine learning exercises in python, part 1', 'sector correlations shiny app', 'an introduction to stock market data analysis with r (part 1)', 'income (2015): united states demographic measures', 'connect to db2 warehouse on cloud and db2 using scala', 'developing for the ibm streaming analytics service', 'using brunel in ipython/jupyter notebooks', 'transfer learning for flight delay prediction via variational autoencoders', 'flightpredict ii: the sequel  – ibm watson data lab', 'use spark for scala to load data and run sql queries', 'a comparison of logistic regression and naive bayes ', 'uci: heart disease - cleveland', 'deep learning from scratch i: computational graphs', 'using github for project control in dsx', 'use spark for python to load data and run sql queries', 'a dynamic duo – inside machine learning – medium', 'super fast string matching in python', 'upload files to ibm data science experience using the command line', 'statistics for hackers', 'discover hidden facebook usage insights', 'working with ibm cloud object storage in python', 'perform sentiment analysis with lstms, using tensorflow', 'modern machine learning algorithms', 'spark 2.1 and job monitoring available in dsx', 'analyze traffic data from the city of san francisco', 'overlapping co-cluster recommendation algorithm (ocular)', 'the unit commitment problem', 'pixiedust 1.0 is here! – ibm watson data lab', 'use decision optimization to schedule league games', 'watson assistant workspace analysis with user logs', '1448    i ranked every intro to data science course on...\\nName: title, dtype: object', 'car performance data', 'introducing streams designer', 'data science for real-time streaming analytics', 'this week in data science (may 30, 2017)', 'use apache systemml and spark for machine learning', 'how smart catalogs can turn the big data flood into an ocean of opportunity', 'modeling energy usage in new york city', '7292    a dramatic tour through python’s data visualiz...\\nName: title, dtype: object', 'watson machine learning for developers', 'uci: sms spam collection', 'use the machine learning library', 'analyzing streaming data from kafka topics', 'visualize the 1854 london cholera outbreak', '1357    what i learned implementing a classifier from ...\\nName: title, dtype: object', 'predict chronic kidney disease using spss modeler flows', 'flexdashboard: interactive dashboards for r', 'workflow in r', 'develop a scala spark model on chicago building violations', 'probabilistic graphical models tutorial\\u200a—\\u200apart 1 – stats and bots', 'access postgresql with python', 'how to perform a logistic regression in r', 'united states demographic measures: population and age', 'machine learning and the science of choosing', 'brunel interactive visualizations in jupyter notebooks', 'use the cloudant-spark connector in python notebook', \"i'd rather predict basketball games than elections: elastic nba rankings\", 'house building with worker skills', '10 essential algorithms for machine learning engineers', 'upload data and create data frames in jupyter notebooks', 'top 10 machine learning use cases: part 1', '10 must attend data science, ml and ai conferences in 2018', 'markdown for jupyter notebooks cheatsheet', 'leverage python, scikit, and text classification for behavioral profiling', 'using machine learning to predict parking difficulty', 'got zip code data? prep it for analytics. – ibm watson data lab – medium', 'graph-based machine learning', 'how to choose a project to practice data science', 'analyze open data sets using pandas in a python notebook', 'jupyter notebooks with scala, python, or r kernels', 'using bigdl in dsx for deep learning on spark', 'predicting flight cancellations using weather data, part 3', 'data science bowl 2017', 'ibm data science experience white paper - sparkr transforming r into a tool for big data analytics', 'challenges in deep learning', 'new shiny cheat sheet and video tutorial', '70 amazing free data sources you should know', 'time series prediction using recurrent neural networks (lstms)', 'using rstudio in ibm data science experience', 'using dsx notebooks to analyze github data', 'automating web analytics through python', 'why you should master r (even if it might eventually become obsolete)', 'dsx: hybrid mode', 'adolescent fertility rate (births per 1,000 women ages 15-19), worldwide', 'how to scale your analytics using r', 'calls by customers of a telco company', 'the greatest public datasets for ai – startup grind', 'common excel tasks demonstrated in\\xa0pandas', 'use spark r to load and analyze data', 'experience iot with coursera', 'simple graphing with ipython and\\xa0pandas', 'best packages for data manipulation in r', 'using deep learning to reconstruct high-resolution audio', '54174    detect potentially malfunctioning sensors in r...\\nName: title, dtype: object', 'the data science process', 'data structures related to machine learning algorithms', 'easy json loading and social sharing in dsx notebooks', 'city population by sex, city and city type', 'use spark for r to load data and run sql queries', 'ensemble learning to improve machine learning results', 'uci: car evaluation', 'the 3 kinds of context: machine learning and the art of the frame', 'process events from the watson iot platform in a streams python application', 'top 10 machine learning algorithms for beginners', 'pulling and displaying etf data', 'tidy up your jupyter notebooks with scripts', 'self-service data preparation with ibm data refinery', 'quick guide to build a recommendation engine in python', 'sparklyr — r interface for apache spark', '15 page tutorial for r', '7 types of job profiles that makes you a data scientist', 'airbnb data for analytics: amsterdam calendar', 'understanding empirical bayes estimation (using baseball statistics)', 'introduction to market basket analysis in\\xa0python', 'making data science a team sport', 'pixiedust gets its first community-driven feature in 1.0.4', \"a kaggler's guide to model stacking in practice\", 'pixiedust: magic for your python notebook', \"a beginner's guide to variational methods\", 'neural language modeling from scratch (part 1)', '5 practical use cases of social network analytics: going beyond facebook and twitter', 'higher-order logistic regression for large datasets', 'from scikit-learn model to cloud with wml client', 'what’s new in the streaming analytics service on bluemix', 'deep learning trends and an example', 'neurally embedded emojis', 'data science in the cloud', 'how to solve 90% of nlp problems', 'working with ibm cloud object storage in r', 'apple, ibm add machine learning to partnership with watson-core ml coupling', 'excel files: loading from object storage — python', 'uci: iris', 'ibm cloud sql query', 'this week in data science (april 18, 2017)', 'access postgresql with r', 'airbnb data for analytics: amsterdam listings', 'an introduction to scientific python (and a bit of the maths behind it) – numpy', 'this week in data science (may 16, 2017)', 'annual precipitation by country 1990-2009', 'this week in data science (may 2, 2017)', 'variational auto-encoder for \"frey faces\" using keras', 'use ibm data science experience to detect time series anomalies', 'this week in data science (april 4, 2017)', 'breast cancer detection with xgboost, wml and scikit', 'airbnb data for analytics: washington d.c. reviews', 'predicting gentrification using longitudinal census data', 'getting started with apache mahout', 'trust in data science', 'an attempt to understand boosting algorithm(s)', \"feature importance and why it's important\", 'declarative machine learning', 'uci: red wine quality', 'this week in data science (february 14, 2017)', 'mapping points with folium', 'using machine learning to predict baseball injuries', 'hurricane how-to', 'uci: adult - predict income', 'working with sqlite databases using python and pandas', 'data visualization with r: scrum metrics', 'some random weekend reading', 'a moving average trading strategy', 'uci: forest fires', 'this week in data science (april 11, 2017)', 'this week in data science (may 23, 2017)', 'python for loops explained (python for data science basics #5)', 'spark 1.4 for rstudio', 'introduction to neural networks, advantages and applications', 'health insurance (2015): united states demographic measures', 'brunel 2.0 preview', '56594    lifelong (machine) learning: how automation ca...\\nName: title, dtype: object', 'spark-based machine learning tools for capturing word meanings', 'recommendation system algorithms – stats and bots', 'tidy data in python', 'use ibm data science experience to read and write data stored on amazon s3', '502    forgetting the past to learn the future: long ...\\nName: title, dtype: object', 'ml algorithm != learning machine', 'twelve\\xa0ways to color a map of africa using brunel', 'how to use version control (github) in rstudio within dsx?', 'collecting data science cheat sheets', \"december '16 rstudio tips and tricks\", 'what is text analytics?', 'aspiring data scientists! start to learn statistics with these 6 books!', 'collect your own fitbit data with python', 'model a golomb ruler', 'simple linear regression? do it the bayesian way', 'united states demographic measures: zip code tabulation areas (zctas)', 'wages', 'uci: white wine quality', '8170    data science expert interview: dez blanchfield...\\nName: title, dtype: object', 'the t-distribution: a key statistical concept discovered by a beer brewery', 'neural networks for beginners: popular types and applications', 'a tensorflow regression model to predict house values', 'deep forest: towards an alternative to deep neural networks', 'airbnb data for analytics: washington d.c. listings', 'using apply, sapply, lapply in r', 'this week in data science (march 7, 2017)', 'awesome deep learning papers', 'improving real-time object detection with yolo', 'what is smote in an imbalanced class setting (e.g. fraud detection)?', 'occupation (2015): united states demographic measures', '10 data science podcasts you need to be listening to right now', 'this week in data science (january 24, 2017)', 'improving the roi of big data and analytics through leveraging new sources of data', 'from spark ml model to online scoring with scala', 'generative adversarial networks (gans)', 'ingest data from message hub in a streams flow', 'fashion-mnist', 'get social with your notebooks in dsx', 'working with db2 warehouse on cloud in data science experience', 'd3heatmap: interactive heat maps', 'this week in data science (january 31, 2017)', 'cifar-100 - python version', 'overfitting in machine learning: what it is and how to prevent it', '9 mistakes to avoid when starting your career in data science', '10 powerful features on watson data platform, no coding necessary', 'notebooks: a power tool for data scientists', 'this week in data science (february 7, 2017)', 'analyze facebook data using ibm watson and watson studio', 'life expectancy at birth by country in total years', 'this week in data science (february 21, 2017)', 'apache spark as the new engine of genomics', 'better together: spss and data science experience', '0 to life-changing app: new apache systemml api on spark shell', 'leaflet: interactive web maps with r', 'enjoy python 3.5 in jupyter notebooks', 'pearson correlation aggregation on sparksql', 'probabilistic graphical models tutorial\\u200a—\\u200apart 2 – stats and bots', 'accelerate your workflow with dsx', 'generalization in deep learning', 'interactive web apps with shiny cheat sheet', 'this week in data science (march 28, 2017)', 'how to use db2 warehouse on cloud in data science experience notebooks', 'optimizing a marketing campaign: moving from predictions to actions', 'getting started with graphframes in apache spark™', 'web picks (week of 23 january 2017)', 'country statistics: unemployment rate', 'word2vec in data products', 'contraceptive prevalence (% women 15-49) by country', 'from python nested lists to multidimensional numpy arrays', 'web picks (december 2017)', 'how to write the first for loop in r', '10 tips on using jupyter notebook', 'births attended by skilled health staff (% of total) by country', 'ibm data catalog is now generally available', 'the power of machine learning in spark', 'a visual explanation of the back propagation algorithm for neural networks', 'dry bulb temperature, by country, station and year', 'country statistics: health expenditures', 'environment statistics database - water', 'rstudio ide  cheat sheet', 'unstructured and structured data versus repetitive and non-repetitive', 'interconnect with us', 'effectively using\\xa0matplotlib', 'analyze starcraft ii replays with jupyter notebooks', 'a classification problem', 'how to ease the strain as your data volumes rise', 'intentional homicide, number and rate per 100,000 population, by country', 'imitation learning in tensorflow (hopper from openai gym)', 'annual % population growth by country', 'shiny 0.12: interactive plots with ggplot2', 'this week in data science (february 28, 2017)', 'when machine learning matters · erik bernhardsson', 'dimensionality reduction algorithms', 'python if statements explained (python for data science basics #4)', 'data visualization playbook: revisiting the basics', 'cleaning the swamp: turn your data lake into a source of crystal-clear insight', 'apache spark™ 2.0: extend structured streaming for spark ml', 'social media insights with watson developer cloud & watson studio', 'airbnb data for analytics: sydney calendar', '0 to life-changing app: scala first steps and an interview with jakob odersky', 'this week in data science (january 10, 2017)', 'tidyverse practice: mapping large european cities', 'shiny 0.13.0', 'time series anomaly detection algorithms – stats and bots', 'airbnb data for analytics: vienna reviews', '10 data science, machine learning and ai podcasts you must listen to', 'uci: wine recognition', 'education (2015): united states demographic measures', 'fighting gerrymandering: using data science to draw fairer congressional districts', 'why even a moth’s brain is smarter than an ai', 'making sense of the bias / variance trade-off in (deep) reinforcement learning', 'total employment, by economic activity (thousands)', 'visualising data the node.js way', 'customers of a telco including services used', 'the random forest algorithm ', 'analyze data, build a dashboard with spark and pixiedust', 'transform anything into a vector', 'top 20 r machine learning and data science packages', 'statistical bias types explained (with examples)', 'apache spark 2.0: machine learning. under the hood and over the rainbow.', 'mobile-cellular telephone subscriptions per 100 inhabitants, worldwide', 'this week in data science (april 25, 2017)', 'breaking the 80/20 rule: how data catalogs transform data scientists’ productivity', 'country statistics: commercial bank prime lending rate', 'web picks (week of 4 september 2017)', 'the million dollar question: where is my data?', 'brunel in jupyter', 'make machine learning a reality for your enterprise', 'country statistics: gdp - per capita (ppp)', 'airbnb data for analytics: venice calendar', 'what is hadoop?', 'discover, catalog and govern data with ibm data catalog', '68879    don’t throw more data at the problem! here’s h...\\nName: title, dtype: object', 'agriculture, value added (% of gdp) by country', 'airbnb data for analytics: amsterdam reviews', 'predict loan applicant behavior with tensorflow neural networking', 'announcing dsx environments in beta!', 'uci: poker hand - testing data set', 'worldwide electricity demand and production 1990-2012', 'data science platforms are on the rise and ibm is leading the way', 'random forest interpretation – conditional feature contributions', 'data wrangling with dplyr and tidyr cheat sheet', 'three reasons machine learning models go out of sync', 'htmlwidgets: javascript data visualization for r', 'cifar-10 - python version', '51822    using apache spark as a parallel processing fr...\\nName: title, dtype: object', 'artificial intelligence, ethically speaking – inside machine learning – medium', 'visual information theory ', 'data visualization: the importance of excluding unnecessary details', 'building custom machine learning algorithms with apache systemml', 'developing ibm streams applications with the python api (version 1.6)', '8 ways to turn data into value with apache spark machine learning', 'web picks - dataminingapps', '3 scenarios for machine learning on multicloud', 'can a.i. be taught to explain itself?', 'leverage scikit-learn models with core ml', 'part-time employment rate, worldwide, by country and year', 'how ibm builds an effective data science team', 'deep learning achievements over the past year ', 'gradient boosting explained', 'get started with streams designer by following this roadmap', 'configuring the apache spark sql context', 'statistical bias types explained', 'blogging with brunel', 'how the circle line rogue train was caught with data', 'machine learning for the enterprise.', 'manage object storage in dsx', 'data visualization playbook: the right level of detail', 'this week in data science (july 26, 2016)', 'score a predictive model built with ibm spss modeler, wml & dsx', 'hyperparameter optimization: sven hafeneger', 'data visualization playbook: telling the data story', 'mycheatsheets.com', 'interactive time series with dygraphs', 'a guide to receptive field arithmetic for convolutional neural networks', 'electric power consumption (kwh per capita) by country', 'how can data scientists collaborate to build better business', 'join and enrich data from multiple sources', 'how open api economy accelerates the growth of big data and analytics', 'drowning in data sources: how data cataloging could fix your findability problems', 'share the (pixiedust) magic – ibm watson data lab – medium', \"2875    hugo larochelle's neural network & deep learni...\\nName: title, dtype: object\", 'bayesian regularization for #neuralnetworks – autonomous agents\\u200a—\\u200a#ai', 'poverty (2015): united states demographic measures', 'airbnb data for analytics: venice reviews', 'bayesian nonparametric models – stats and bots', 'uci: poker hand - training data set', 'country population by gender 1985-2005', 'finding the user in data science', 'learning statistics on youtube', 'calculate moving averages on real time data with streams designer', 'readr 1.0.0', 'optimization for deep learning highlights in 2017', 'recommender systems: approaches & algorithms', 'migrating to python 3 with pleasure', 'find airbnb deals in portland with machine learning using r', 'what is machine learning?', 'creating the data science experience', 'using shell scripts to control data flows created in watson applications', 'open sourcing 223gb of driving data – udacity inc', 'best practices for custom models in watson visual recognition', 'work with data connections in dsx', 'essentials of machine learning algorithms (with python and r codes)', 'detect malfunctioning iot sensors with streaming analytics', 'airbnb data for analytics: vancouver reviews', 'airbnb data for analytics: vienna listings', 'data visualization with ggplot2 cheat sheet', 'making data cleaning simple with the sparkling.data library', \"let's have some fun with nfl data\", 'r for data science', 'spark sql - rapid performance evolution', 'external debt stocks, total (dod, current us$) by country', 'adoption of machine learning to software failure prediction', 'data science of variable selection', 'percentage of internet users by country', 'analyze ny restaurant data using spark in dsx', '20405    how to tame the valley — hessian-free hacks fo...\\nName: title, dtype: object', 'deep learning, structure and innate priors', 'web picks by dataminingapps', 'country statistics: telephones - mobile cellular', 'country statistics: life expectancy at birth', 'airbnb data for analytics: trentino listings', 'population below national poverty line, total, percentage', 'build a logistic regression model with wml & dsx', 'predicting the 2016 us presidential election', 'airbnb data for analytics: toronto reviews', 'shiny: a data scientist’s best friend', 'top analytics tools in 2016', \"for ai to get creative, it must learn the rules--then how to break 'em\", 'time series analysis using max/min and neuroscience', 'are your predictive models like broken clocks?', 'the difference between ai, machine learning, and deep learning?', 'pseudo-labeling a simple semi-supervised learning method', 'apache spark @scale: a 60 tb+ production use case', 'data science experience documentation', 'working with notebooks in dsx', 'web picks (week of 2 october 2017)', 'advancements in the spark community', 'clustering: a guide for the perplexed', 'apache spark sql analyzer resolves order-by column', 'airbnb data for analytics: toronto calendar', 'what is spark?', 'roads paved as % of total roads by country', 'united states demographic measures: income', 'forest area by country in sq km', '3992    using apache spark to predict attack vectors a...\\nName: title, dtype: object', 'airbnb data for analytics: vienna calendar', 'apache spark™ 2.0: migrating applications', 'read and write data to and from amazon s3 buckets in rstudio', 'analyze db2 warehouse on cloud data in rstudio in dsx', 'watson speech-to-text services — tl;dr need not apply', 'this week in data science (november 01, 2016)', 'the two phases of gradient descent in deep learning', 'ibm watson machine learning: get started', 'country statistics - europe - population and society', 'what is systemml? why is it relevant to you?', 'talent vs luck: the role of randomness in success and failure', 'data science experience demo: modeling energy usage in nyc', 'ratio (% of population) at national poverty line by country', 'world marriage data', 'build a predictive analytic model', 'a guide to convolution arithmetic for deep learning', 'xml2 1.0.0', 'empirical bayes for multiple sample sizes', 'backpropagation — how neural networks learn complex behaviors', 'an interview with pythonista katharine jarmul', 'airbnb data for analytics: berlin reviews', 'data science expert interview: holden karau', 'create a project for watson machine learning in dsx', 'airbnb data for analytics: portland listings', 'airbnb data for analytics: barcelona reviews', 'airbnb data for analytics: toronto listings', 'brunel: imitation is a sincere form of flattery', 'intelligent applications - apache spark', 'use data assets in a project using ibm data catalog', 'recent trends in recommender systems', 'apache systemml', 'airbnb data for analytics: antwerp reviews', 'r markdown reference guide', 'airbnb data for analytics: antwerp calendar', 'reducing overplotting in scatterplots', 'you could be looking at it all wrong', 'country statistics: telephones - fixed lines', 'country statistics: airports', 'airbnb data for analytics: vancouver listings', 'airbnb data for analytics: boston listings', 'airbnb data for analytics: new york city calendar', 'airbnb data for analytics: paris calendar', 'government consumption expenditure', 'what’s new in data refinery?', 'airbnb data for analytics: venice listings', 'airbnb data for analytics: trentino reviews', 'interest rates', 'dplyr 0.5.0', 'laplace noising versus simulated out of sample methods (cross frames)', 'world tourism data by the world tourism organization', 'country statistics: gross national saving', 'airbnb data for analytics: madrid listings', 'the art of side effects: curing apache spark streaming’s amnesia (part 1/2)', 'airbnb data for analytics: portland reviews', 'shaping data with ibm data refinery', 'mobile cellular subscriptions per 100 people by country', 'fertility rate by country in total births per woman', 'seti data, publicly available, from ibm', 'improving quality of life with spark-empowered machine learning', 'persistent changes to spark config in dsx', 'country statistics: roadways', 'how to get a job in deep learning', 'uci: abalone', 'foundational methodology for data science', 'jupyter (ipython) notebooks features', 'country statistics: stock of broad money', 'consumer prices', 'country statistics: stock of domestic credit', 'airbnb data for analytics: antwerp listings', 'airbnb data for analytics: austin listings', 'this week in data science', 'co2 emissions (metric tons per capita) by country', 'a survey of books about apache spark™', 'load data into rstudio for analysis in dsx', 'household consumption expenditure', 'this week in data science (august 02, 2016)', 'do i need to learn r?', 'households by type of household, age and sex of head of household', 'airbnb data for analytics: sydney listings', 'tidyr 0.6.0', 'a fast on-disk format for data frames for r and python, powered by apache arrow', 'airbnb data for analytics: portland calendar', 'unmet need for family planning, spacing, percentage, worldwide, by country', 'airbnb data for analytics: sydney reviews', 'airbnb data for analytics: boston reviews', 'enhanced color mapping', 'worldwide fuel oil consumption by household (in 1000 metric tons)', 'airbnb data for analytics: athens calendar', 'dt: an r interface to the datatables library', 'country statistics: crude oil - exports', 'airbnb data for analytics: barcelona listings', 'publish notebooks to github in dsx', 'airbnb data for analytics: chicago listings', 'country statistics: reserves of foreign exchange and gold', 'country statistics: infant mortality rate', 'machine learning for everyone', 'run shiny applications in rstudio in dsx', 'country statistics: railways', '10 pieces of advice to beginner data scientists', 'gross national income per capita, atlas method (current us$) by country', 'a day in the life of a data engineer', 'high-tech exports as % of manufactured exports by country', 'apache spark: upgrade and speed-up your analytics', 'country statistics: maternal mortality rate', 'worldwide county and region - national accounts - gross national income 1948-2010', 'cache table in apache spark sql', 'airbnb data for analytics: vancouver calendar', 'missing data conundrum: exploration and imputation techniques', 'airbnb data for analytics: new york city reviews', 'use iot data in streams designer for billing and alerts', 'which one to choose for your problem', 'country populations 15 years of age and over, by educational attainment, age and sex', 'greenhouse gas emissions worldwide', 'learn about data science in world of watson', 'united states demographic measures: education', 'airbnb data for analytics: austin reviews', 'foreign direct investment, net inflows (bop, current us$) by country', 'refugees', 'apache spark™ 2.0: impressive improvements to spark sql', 'don’t overlook simpler techniques and algorithms', 'machine learning for the enterprise', 'airbnb data for analytics: athens reviews', 'back to basics — jupyter notebooks', 'airbnb data for analytics: chicago calendar', 'build a naive-bayes model with wml & dsx', 'why relational databases and r?', 'from local spark mllib model to cloud with watson machine learning', '66855    migration from ibm bluemix data connect api (a...\\nName: title, dtype: object', 'this week in data science (january 17, 2017)', 'run dsx notebooks on amazon emr', 'airbnb data for analytics: antwerp listings test', 'airbnb data for analytics: san diego reviews', 'use pmml to predict iris species', 'country statistics: distribution of family income - gini index', 'natural gas production, 1995 - 2012, worldwide', 'airbnb data for analytics: nashville calendar', 'airbnb data for analytics: montreal listings', 'airbnb data for analytics: boston calendar', 'environment statistics database - waste', 'beyond parallelize and collect', 'package development with devtools  cheat sheet', 'labor', 'using the maker palette in the ibm data science experience', 'governance overview for ibm data catalog', 'style transfer experiments with watson machine learning', 'load db2 warehouse on cloud data with apache spark in dsx', 'roads, paved (% of total roads), worldwide, 1990-2011', 'military expenditure as % of gdp by country', 'country statistics: merchant marine', 'the new builders ep. 13: all the data that’s fit to analyze', 'airbnb data for analytics: london listings', 'energy use (kg of oil equivalent per capita) by country', 'country statistics: imports', 'country statistics: electricity - consumption', 'airbnb data for analytics: paris reviews', 'the new builders podcast ep 3: collaboration', 'one year as a data scientist at stack overflow', 'airbnb data for analytics: santa cruz county reviews', 'stacking multiple custom models in watson visual recognition', 'let data dictate the visualization', 'country statistics: industrial production growth rate', 'big data is better data', 'marital status of men and women', 'primary school completion rate % of relevant age group by country', 'country statistics: electricity - from fossil fuels', 'geographic coordinates of world locations', 'a glimpse inside the mind of a data scientist', 'country statistics: children under the age of 5 years underweight', 'improved water source by country: % population with access', 'annual % inflation by country', 'airbnb data for analytics: trentino calendar', 'load and analyze public data sets in dsx', 'this week in data science (october 18, 2016)', 'working with on-premises databases — step by step', 'airbnb data for analytics: brussels reviews', 'airbnb data for analytics: paris listings', 'country statistics: refined petroleum products - production', 'create a project in dsx', 'refugees, worldwide, 2003 - 2013', 'airbnb data for analytics: san francisco listings', 'airbnb data for analytics: austin calendar', 'airbnb data for analytics: dublin reviews', 'ggplot2 2.2.0 coming soon!', 'airbnb data for analytics: washington d.c. calendar', 'country statistics: central bank discount rate', \"h2o with ibm's data science experience (dsx)\", 'country statistics: budget surplus or deficit', 'building a business that combines human experts and data science', 'airbnb data for analytics: seattle calendar', 'this week in data science (december 27, 2016)', 'airbnb data for analytics: seattle reviews', 'airbnb data for analytics: athens listings', 'country statistics: current account balance', 'airbnb data for analytics: mallorca reviews', 'international liquidity', 'airbnb data for analytics: chicago reviews', 'country statistics: population', 'consumption of ozone-depleting cfcs in odp metric tons', 'airbnb data for analytics: new orleans listings', 'continuous learning on watson', 'country statistics: internet users', 'airbnb data for analytics: berlin calendar', 'a new version of dt (0.2) on cran', 'country surface area (sq. km)', 'webinar: april 11 - thinking inside the box: you can do that inside a data frame?!', 'nips 2016 — day 2 highlights', 'airbnb data for analytics: san diego listings', 'airbnb data for analytics: london reviews', 'country statistics: market value of publicly traded shares', 'measles immunization % children 12-23 months by country', 'airbnb data for analytics: new orleans reviews', 'the data processing inequality', 'country statistics: natural gas - consumption', 'create a connection and add it to a project using ibm data refinery', 'this week in data science (november 22, 2016)', 'country statistics: crude oil - imports', 'build deep learning architectures with neural network modeler', 'airbnb data for analytics: oakland reviews', 'airbnb data for analytics: barcelona calendar', 'ibm data catalog overview', 'country statistics: crude oil - proved reserves']\n"
     ]
    }
   ],
   "source": [
    "# Quick spot check - don't change this code - just use it to test your functions\n",
    "rec_ids, rec_names = user_user_recs_part2(20, 10)\n",
    "print(\"The top 10 recommendations for user 20 are the following article ids:\")\n",
    "print(rec_ids)\n",
    "print()\n",
    "print(\"The top 10 recommendations for user 20 are the following article names:\")\n",
    "print(rec_names)"
   ]
  },
  {
   "cell_type": "markdown",
   "metadata": {},
   "source": [
    "`5.` Use your functions from above to correctly fill in the solutions to the dictionary below.  Then test your dictionary against the solution.  Provide the code you need to answer each following the comments below."
   ]
  },
  {
   "cell_type": "code",
   "execution_count": 44,
   "metadata": {},
   "outputs": [],
   "source": [
    "### Tests with a dictionary of results\n",
    "\n",
    "user1_most_sim = get_top_sorted_users(1)['neighbor_id'][0] # Find the user that is most similar to user 1 \n",
    "user131_10th_sim = get_top_sorted_users(131)['neighbor_id'][10-1] # Find the 10th most similar user to user 131"
   ]
  },
  {
   "cell_type": "code",
   "execution_count": 45,
   "metadata": {},
   "outputs": [
    {
     "name": "stdout",
     "output_type": "stream",
     "text": [
      "This all looks good!  Nice job!\n"
     ]
    }
   ],
   "source": [
    "## Dictionary Test Here\n",
    "sol_5_dict = {\n",
    "    'The user that is most similar to user 1.': user1_most_sim, \n",
    "    'The user that is the 10th most similar to user 131': user131_10th_sim,\n",
    "}\n",
    "\n",
    "t.sol_5_test(sol_5_dict)"
   ]
  },
  {
   "cell_type": "markdown",
   "metadata": {},
   "source": [
    "`6.` If we were given a new user, which of the above functions would you be able to use to make recommendations?  Explain.  Can you think of a better way we might make recommendations?  Use the cell below to explain a better method for new users."
   ]
  },
  {
   "cell_type": "markdown",
   "metadata": {},
   "source": [
    "**I think this would be the so called cold start problem. Since we dont have any views yet of this new user we cannot use collaborative filtering. Therefore the function \"get_top_articles\" (rank-based-method) would be better to do a recommendation.**"
   ]
  },
  {
   "cell_type": "markdown",
   "metadata": {},
   "source": [
    "`7.` Using your existing functions, provide the top 10 recommended articles you would provide for the a new user below.  You can test your function against our thoughts to make sure we are all on the same page with how we might make a recommendation."
   ]
  },
  {
   "cell_type": "code",
   "execution_count": 46,
   "metadata": {},
   "outputs": [],
   "source": [
    "new_user = '0.0'\n",
    "\n",
    "# What would your recommendations be for this new user '0.0'?  As a new user, they have no observed articles.\n",
    "# Provide a list of the top 10 article ids you would give to \n",
    "new_user_recs = get_top_article_ids(10) # Your recommendations here"
   ]
  },
  {
   "cell_type": "code",
   "execution_count": 47,
   "metadata": {},
   "outputs": [
    {
     "name": "stdout",
     "output_type": "stream",
     "text": [
      "That's right!  Nice job!\n"
     ]
    }
   ],
   "source": [
    "assert set(new_user_recs) == set(['1314.0','1429.0','1293.0','1427.0','1162.0','1364.0','1304.0','1170.0','1431.0','1330.0']), \"Oops!  It makes sense that in this case we would want to recommend the most popular articles, because we don't know anything about these users.\"\n",
    "\n",
    "print(\"That's right!  Nice job!\")"
   ]
  },
  {
   "cell_type": "markdown",
   "metadata": {},
   "source": [
    "### <a class=\"anchor\" id=\"Content-Recs\">Part IV: Content Based Recommendations (EXTRA - NOT REQUIRED)</a>\n",
    "\n",
    "Another method we might use to make recommendations is to perform a ranking of the highest ranked articles associated with some term.  You might consider content to be the **doc_body**, **doc_description**, or **doc_full_name**.  There isn't one way to create a content based recommendation, especially considering that each of these columns hold content related information.  \n",
    "\n",
    "`1.` Use the function body below to create a content based recommender.  Since there isn't one right answer for this recommendation tactic, no test functions are provided.  Feel free to change the function inputs if you decide you want to try a method that requires more input values.  The input values are currently set with one idea in mind that you may use to make content based recommendations.  One additional idea is that you might want to choose the most popular recommendations that meet your 'content criteria', but again, there is a lot of flexibility in how you might make these recommendations.\n",
    "\n",
    "### This part is NOT REQUIRED to pass this project.  However, you may choose to take this on as an extra way to show off your skills."
   ]
  },
  {
   "cell_type": "code",
   "execution_count": 48,
   "metadata": {},
   "outputs": [
    {
     "name": "stdout",
     "output_type": "stream",
     "text": [
      "[nltk_data] Downloading package stopwords to /root/nltk_data...\n",
      "[nltk_data]   Unzipping corpora/stopwords.zip.\n"
     ]
    }
   ],
   "source": [
    "import re\n",
    "import string\n",
    "import nltk\n",
    "from nltk.corpus import stopwords\n",
    "nltk.download('stopwords')\n",
    "from nltk.tokenize import word_tokenize\n",
    "\n",
    "def make_content_recs(article_id):\n",
    "    \n",
    "    column = 'doc_full_name'\n",
    "    \n",
    "    # Takes the \"full name\" of each article\n",
    "    df_temp = df_content[[column,'article_id']]\n",
    "    \n",
    "    # Initiate the clean names list\n",
    "    full_names_clean = []\n",
    "    \n",
    "    for i in range(df_temp.shape[0]):\n",
    "        x = df_temp[column][i].lower() # Lower all Capital letters\n",
    "        x = re.sub('[^A-Za-z0-9]+', ' ', x) # Remove all signs and special characters\n",
    "        x = x.split() # Split the sentence into different words\n",
    "        x = [w for w in x if w not in stopwords.words('english')] # Remove stopwords (have not much meaning)\n",
    "        full_names_clean.append(x)\n",
    "    \n",
    "    # Create matrix to compare the titles with each other (in the diagonal the articles are compared with themselfs)\n",
    "    art_mat = np.zeros([len(full_names_clean),len(full_names_clean)])\n",
    "    for i in range(len(full_names_clean)):\n",
    "        for j in range(len(full_names_clean)):\n",
    "            art_mat[i,j] = len(list(set(full_names_clean[i]) & set(full_names_clean[j])))\n",
    "\n",
    "    # Fill the diagonal with zeros\n",
    "    np.fill_diagonal(art_mat, 0)\n",
    "    \n",
    "    # Filter out the most similar articles to the given article_id and sort it by the amounts of similar words\n",
    "    articles_idx = list(np.where(art_mat[article_id])[0]) # Find id's where there are more than 0 words in common\n",
    "    articles_sim = list(art_mat[article_id][articles_idx]) # Find the similarity for that article to each other article\n",
    "    zipped = list(zip(articles_idx, articles_sim)) # Zip these two lists together\n",
    "    sorted_articles_zip = sorted(zipped, key = lambda t: t[1], reverse=True) # Sort it by similarity\n",
    "    \n",
    "    # Get the article_ids back of the zipped list\n",
    "    similar_article_ids = [] \n",
    "    for iter in sorted_articles_zip:\n",
    "        similar_article_ids.append(iter[0])\n",
    "        \n",
    "    # Find the article names for the found article id's\n",
    "    similar_article_names = list(get_article_names(similar_article_ids))\n",
    "    \n",
    "    return similar_article_names"
   ]
  },
  {
   "cell_type": "markdown",
   "metadata": {},
   "source": [
    "`2.` Now that you have put together your content-based recommendation system, use the cell below to write a summary explaining how your content based recommender works.  Do you see any possible improvements that could be made to your function?  Is there anything novel about your content based recommender?\n",
    "\n",
    "### This part is NOT REQUIRED to pass this project.  However, you may choose to take this on as an extra way to show off your skills."
   ]
  },
  {
   "cell_type": "markdown",
   "metadata": {},
   "source": [
    "**The function takes an articl id and returns a list with similar article based on the article title. The more words, which are common in the title, the more similar it is assumed and therefore recommended. An improvement might be to have multiple article id's as input or instead of comparing the titles, compare the bodies between the different articles.**"
   ]
  },
  {
   "cell_type": "markdown",
   "metadata": {},
   "source": [
    "`3.` Use your content-recommendation system to make recommendations for the below scenarios based on the comments.  Again no tests are provided here, because there isn't one right answer that could be used to find these content based recommendations.\n",
    "\n",
    "### This part is NOT REQUIRED to pass this project.  However, you may choose to take this on as an extra way to show off your skills."
   ]
  },
  {
   "cell_type": "code",
   "execution_count": 49,
   "metadata": {},
   "outputs": [
    {
     "data": {
      "text/plain": [
       "'use xgboost, scikit-learn & ibm watson machine learning apis'"
      ]
     },
     "execution_count": 49,
     "metadata": {},
     "output_type": "execute_result"
    }
   ],
   "source": [
    "df[df['article_id']==1427.0]['title'][42]"
   ]
  },
  {
   "cell_type": "code",
   "execution_count": 50,
   "metadata": {},
   "outputs": [],
   "source": [
    "# make recommendations for a brand new user\n",
    "\n",
    "## Here I use the ranked based method since we have no information about the user\n",
    "recs_brand_new = get_top_articles(10)\n",
    "\n",
    "# make a recommendations for a user who only has interacted with article id '1427.0'\n",
    "\n",
    "## This article does not exist in the df_content, therefore I also use the ranked based method\n",
    "recs_user = get_top_articles(10)"
   ]
  },
  {
   "cell_type": "markdown",
   "metadata": {},
   "source": [
    "### <a class=\"anchor\" id=\"Matrix-Fact\">Part V: Matrix Factorization</a>\n",
    "\n",
    "In this part of the notebook, you will build use matrix factorization to make article recommendations to the users on the IBM Watson Studio platform.\n",
    "\n",
    "`1.` You should have already created a **user_item** matrix above in **question 1** of **Part III** above.  This first question here will just require that you run the cells to get things set up for the rest of **Part V** of the notebook. "
   ]
  },
  {
   "cell_type": "code",
   "execution_count": 51,
   "metadata": {},
   "outputs": [],
   "source": [
    "# Load the matrix here\n",
    "user_item_matrix = pd.read_pickle('user_item_matrix.p')"
   ]
  },
  {
   "cell_type": "code",
   "execution_count": 52,
   "metadata": {},
   "outputs": [
    {
     "data": {
      "text/html": [
       "<div>\n",
       "<style scoped>\n",
       "    .dataframe tbody tr th:only-of-type {\n",
       "        vertical-align: middle;\n",
       "    }\n",
       "\n",
       "    .dataframe tbody tr th {\n",
       "        vertical-align: top;\n",
       "    }\n",
       "\n",
       "    .dataframe thead th {\n",
       "        text-align: right;\n",
       "    }\n",
       "</style>\n",
       "<table border=\"1\" class=\"dataframe\">\n",
       "  <thead>\n",
       "    <tr style=\"text-align: right;\">\n",
       "      <th>article_id</th>\n",
       "      <th>0.0</th>\n",
       "      <th>100.0</th>\n",
       "      <th>1000.0</th>\n",
       "      <th>1004.0</th>\n",
       "      <th>1006.0</th>\n",
       "      <th>1008.0</th>\n",
       "      <th>101.0</th>\n",
       "      <th>1014.0</th>\n",
       "      <th>1015.0</th>\n",
       "      <th>1016.0</th>\n",
       "      <th>...</th>\n",
       "      <th>977.0</th>\n",
       "      <th>98.0</th>\n",
       "      <th>981.0</th>\n",
       "      <th>984.0</th>\n",
       "      <th>985.0</th>\n",
       "      <th>986.0</th>\n",
       "      <th>990.0</th>\n",
       "      <th>993.0</th>\n",
       "      <th>996.0</th>\n",
       "      <th>997.0</th>\n",
       "    </tr>\n",
       "    <tr>\n",
       "      <th>user_id</th>\n",
       "      <th></th>\n",
       "      <th></th>\n",
       "      <th></th>\n",
       "      <th></th>\n",
       "      <th></th>\n",
       "      <th></th>\n",
       "      <th></th>\n",
       "      <th></th>\n",
       "      <th></th>\n",
       "      <th></th>\n",
       "      <th></th>\n",
       "      <th></th>\n",
       "      <th></th>\n",
       "      <th></th>\n",
       "      <th></th>\n",
       "      <th></th>\n",
       "      <th></th>\n",
       "      <th></th>\n",
       "      <th></th>\n",
       "      <th></th>\n",
       "      <th></th>\n",
       "    </tr>\n",
       "  </thead>\n",
       "  <tbody>\n",
       "    <tr>\n",
       "      <th>1</th>\n",
       "      <td>0.0</td>\n",
       "      <td>0.0</td>\n",
       "      <td>0.0</td>\n",
       "      <td>0.0</td>\n",
       "      <td>0.0</td>\n",
       "      <td>0.0</td>\n",
       "      <td>0.0</td>\n",
       "      <td>0.0</td>\n",
       "      <td>0.0</td>\n",
       "      <td>0.0</td>\n",
       "      <td>...</td>\n",
       "      <td>0.0</td>\n",
       "      <td>0.0</td>\n",
       "      <td>1.0</td>\n",
       "      <td>0.0</td>\n",
       "      <td>0.0</td>\n",
       "      <td>0.0</td>\n",
       "      <td>0.0</td>\n",
       "      <td>0.0</td>\n",
       "      <td>0.0</td>\n",
       "      <td>0.0</td>\n",
       "    </tr>\n",
       "    <tr>\n",
       "      <th>2</th>\n",
       "      <td>0.0</td>\n",
       "      <td>0.0</td>\n",
       "      <td>0.0</td>\n",
       "      <td>0.0</td>\n",
       "      <td>0.0</td>\n",
       "      <td>0.0</td>\n",
       "      <td>0.0</td>\n",
       "      <td>0.0</td>\n",
       "      <td>0.0</td>\n",
       "      <td>0.0</td>\n",
       "      <td>...</td>\n",
       "      <td>0.0</td>\n",
       "      <td>0.0</td>\n",
       "      <td>0.0</td>\n",
       "      <td>0.0</td>\n",
       "      <td>0.0</td>\n",
       "      <td>0.0</td>\n",
       "      <td>0.0</td>\n",
       "      <td>0.0</td>\n",
       "      <td>0.0</td>\n",
       "      <td>0.0</td>\n",
       "    </tr>\n",
       "    <tr>\n",
       "      <th>3</th>\n",
       "      <td>0.0</td>\n",
       "      <td>0.0</td>\n",
       "      <td>0.0</td>\n",
       "      <td>0.0</td>\n",
       "      <td>0.0</td>\n",
       "      <td>0.0</td>\n",
       "      <td>0.0</td>\n",
       "      <td>0.0</td>\n",
       "      <td>0.0</td>\n",
       "      <td>0.0</td>\n",
       "      <td>...</td>\n",
       "      <td>1.0</td>\n",
       "      <td>0.0</td>\n",
       "      <td>0.0</td>\n",
       "      <td>0.0</td>\n",
       "      <td>0.0</td>\n",
       "      <td>0.0</td>\n",
       "      <td>0.0</td>\n",
       "      <td>0.0</td>\n",
       "      <td>0.0</td>\n",
       "      <td>0.0</td>\n",
       "    </tr>\n",
       "    <tr>\n",
       "      <th>4</th>\n",
       "      <td>0.0</td>\n",
       "      <td>0.0</td>\n",
       "      <td>0.0</td>\n",
       "      <td>0.0</td>\n",
       "      <td>0.0</td>\n",
       "      <td>0.0</td>\n",
       "      <td>0.0</td>\n",
       "      <td>0.0</td>\n",
       "      <td>0.0</td>\n",
       "      <td>0.0</td>\n",
       "      <td>...</td>\n",
       "      <td>0.0</td>\n",
       "      <td>0.0</td>\n",
       "      <td>0.0</td>\n",
       "      <td>0.0</td>\n",
       "      <td>0.0</td>\n",
       "      <td>0.0</td>\n",
       "      <td>0.0</td>\n",
       "      <td>0.0</td>\n",
       "      <td>0.0</td>\n",
       "      <td>0.0</td>\n",
       "    </tr>\n",
       "    <tr>\n",
       "      <th>5</th>\n",
       "      <td>0.0</td>\n",
       "      <td>0.0</td>\n",
       "      <td>0.0</td>\n",
       "      <td>0.0</td>\n",
       "      <td>0.0</td>\n",
       "      <td>0.0</td>\n",
       "      <td>0.0</td>\n",
       "      <td>0.0</td>\n",
       "      <td>0.0</td>\n",
       "      <td>0.0</td>\n",
       "      <td>...</td>\n",
       "      <td>0.0</td>\n",
       "      <td>0.0</td>\n",
       "      <td>0.0</td>\n",
       "      <td>0.0</td>\n",
       "      <td>0.0</td>\n",
       "      <td>0.0</td>\n",
       "      <td>0.0</td>\n",
       "      <td>0.0</td>\n",
       "      <td>0.0</td>\n",
       "      <td>0.0</td>\n",
       "    </tr>\n",
       "  </tbody>\n",
       "</table>\n",
       "<p>5 rows × 714 columns</p>\n",
       "</div>"
      ],
      "text/plain": [
       "article_id  0.0  100.0  1000.0  1004.0  1006.0  1008.0  101.0  1014.0  1015.0  \\\n",
       "user_id                                                                         \n",
       "1           0.0    0.0     0.0     0.0     0.0     0.0    0.0     0.0     0.0   \n",
       "2           0.0    0.0     0.0     0.0     0.0     0.0    0.0     0.0     0.0   \n",
       "3           0.0    0.0     0.0     0.0     0.0     0.0    0.0     0.0     0.0   \n",
       "4           0.0    0.0     0.0     0.0     0.0     0.0    0.0     0.0     0.0   \n",
       "5           0.0    0.0     0.0     0.0     0.0     0.0    0.0     0.0     0.0   \n",
       "\n",
       "article_id  1016.0  ...    977.0  98.0  981.0  984.0  985.0  986.0  990.0  \\\n",
       "user_id             ...                                                     \n",
       "1              0.0  ...      0.0   0.0    1.0    0.0    0.0    0.0    0.0   \n",
       "2              0.0  ...      0.0   0.0    0.0    0.0    0.0    0.0    0.0   \n",
       "3              0.0  ...      1.0   0.0    0.0    0.0    0.0    0.0    0.0   \n",
       "4              0.0  ...      0.0   0.0    0.0    0.0    0.0    0.0    0.0   \n",
       "5              0.0  ...      0.0   0.0    0.0    0.0    0.0    0.0    0.0   \n",
       "\n",
       "article_id  993.0  996.0  997.0  \n",
       "user_id                          \n",
       "1             0.0    0.0    0.0  \n",
       "2             0.0    0.0    0.0  \n",
       "3             0.0    0.0    0.0  \n",
       "4             0.0    0.0    0.0  \n",
       "5             0.0    0.0    0.0  \n",
       "\n",
       "[5 rows x 714 columns]"
      ]
     },
     "execution_count": 52,
     "metadata": {},
     "output_type": "execute_result"
    }
   ],
   "source": [
    "# quick look at the matrix\n",
    "user_item_matrix.head()"
   ]
  },
  {
   "cell_type": "markdown",
   "metadata": {},
   "source": [
    "`2.` In this situation, you can use Singular Value Decomposition from [numpy](https://docs.scipy.org/doc/numpy-1.14.0/reference/generated/numpy.linalg.svd.html) on the user-item matrix.  Use the cell to perform SVD, and explain why this is different than in the lesson."
   ]
  },
  {
   "cell_type": "code",
   "execution_count": 53,
   "metadata": {},
   "outputs": [],
   "source": [
    "# Perform SVD on the User-Item Matrix Here\n",
    "u, s, vt = np.linalg.svd(user_item_matrix) # use the built in to get the three matrices"
   ]
  },
  {
   "cell_type": "code",
   "execution_count": 54,
   "metadata": {},
   "outputs": [
    {
     "data": {
      "text/plain": [
       "((5149, 5149), (714,), (714, 714))"
      ]
     },
     "execution_count": 54,
     "metadata": {},
     "output_type": "execute_result"
    }
   ],
   "source": [
    "u.shape, s.shape, vt.shape"
   ]
  },
  {
   "cell_type": "markdown",
   "metadata": {},
   "source": [
    "**In the lesson we had missing values in the user-item matrix. Therefore, we could not use a closed form method to find the solution. Instead we used an iterative method called Funk SVD to obtain the solution. Here we have a dataframe which has no nan's. This matrix has Eigenvalues/Eigenvectors and so we can apply the direct method to obtain the solution.**"
   ]
  },
  {
   "cell_type": "markdown",
   "metadata": {},
   "source": [
    "`3.` Now for the tricky part, how do we choose the number of latent features to use?  Running the below cell, you can see that as the number of latent features increases, we obtain a lower error rate on making predictions for the 1 and 0 values in the user-item matrix.  Run the cell below to get an idea of how the accuracy improves as we increase the number of latent features."
   ]
  },
  {
   "cell_type": "code",
   "execution_count": 55,
   "metadata": {},
   "outputs": [
    {
     "data": {
      "image/png": "[encoded data removed]",
      "text/plain": [
       "<matplotlib.figure.Figure at 0x7fd5e1f15358>"
      ]
     },
     "metadata": {
      "needs_background": "light"
     },
     "output_type": "display_data"
    }
   ],
   "source": [
    "num_latent_feats = np.arange(10,700+10,20)\n",
    "sum_errs = []\n",
    "\n",
    "for k in num_latent_feats:\n",
    "    # restructure with k latent features\n",
    "    s_new, u_new, vt_new = np.diag(s[:k]), u[:, :k], vt[:k, :]\n",
    "    \n",
    "    # take dot product\n",
    "    user_item_est = np.around(np.dot(np.dot(u_new, s_new), vt_new))\n",
    "    \n",
    "    # compute error for each prediction to actual value\n",
    "    diffs = np.subtract(user_item_matrix, user_item_est)\n",
    "    \n",
    "    # total errors and keep track of them\n",
    "    err = np.sum(np.sum(np.abs(diffs)))\n",
    "    sum_errs.append(err)\n",
    "    \n",
    "    \n",
    "plt.plot(num_latent_feats, 1 - np.array(sum_errs)/df.shape[0]);\n",
    "plt.xlabel('Number of Latent Features');\n",
    "plt.ylabel('Accuracy');\n",
    "plt.title('Accuracy vs. Number of Latent Features');"
   ]
  },
  {
   "cell_type": "markdown",
   "metadata": {},
   "source": [
    "`4.` From the above, we can't really be sure how many features to use, because simply having a better way to predict the 1's and 0's of the matrix doesn't exactly give us an indication of if we are able to make good recommendations.  Instead, we might split our dataset into a training and test set of data, as shown in the cell below.  \n",
    "\n",
    "Use the code from question 3 to understand the impact on accuracy of the training and test sets of data with different numbers of latent features. Using the split below: \n",
    "\n",
    "* How many users can we make predictions for in the test set?  \n",
    "* How many users are we not able to make predictions for because of the cold start problem?\n",
    "* How many articles can we make predictions for in the test set?  \n",
    "* How many articles are we not able to make predictions for because of the cold start problem?"
   ]
  },
  {
   "cell_type": "code",
   "execution_count": 56,
   "metadata": {},
   "outputs": [],
   "source": [
    "df_train = df.head(40000)\n",
    "df_test = df.tail(5993)\n",
    "\n",
    "def create_test_and_train_user_item(df_train, df_test):\n",
    "    '''\n",
    "    INPUT:\n",
    "    df_train - training dataframe\n",
    "    df_test - test dataframe\n",
    "    \n",
    "    OUTPUT:\n",
    "    user_item_train - a user-item matrix of the training dataframe \n",
    "                      (unique users for each row and unique articles for each column)\n",
    "    user_item_test - a user-item matrix of the testing dataframe \n",
    "                    (unique users for each row and unique articles for each column)\n",
    "    test_idx - all of the test user ids\n",
    "    test_arts - all of the test article ids\n",
    "    \n",
    "    '''\n",
    "    # Create two new user-item-matrices\n",
    "    user_item_train = create_user_item_matrix(df_train)\n",
    "    user_item_test = create_user_item_matrix(df_test)\n",
    "    test_idx = list(user_item.index)\n",
    "    test_arts = list(user_item.columns)\n",
    "    \n",
    "    \n",
    "    return user_item_train, user_item_test, test_idx, test_arts\n",
    "\n",
    "user_item_train, user_item_test, test_idx, test_arts = create_test_and_train_user_item(df_train, df_test)"
   ]
  },
  {
   "cell_type": "code",
   "execution_count": 57,
   "metadata": {},
   "outputs": [
    {
     "data": {
      "text/plain": [
       "20"
      ]
     },
     "execution_count": 57,
     "metadata": {},
     "output_type": "execute_result"
    }
   ],
   "source": [
    "# This amount of users are in the training set and test set\n",
    "test_users = list(user_item_test.index)\n",
    "train_users = list(user_item_train.index)\n",
    "users_in_test_and_train_set = len(np.intersect1d(train_users, test_users))\n",
    "users_in_test_and_train_set"
   ]
  },
  {
   "cell_type": "code",
   "execution_count": 58,
   "metadata": {},
   "outputs": [
    {
     "data": {
      "text/plain": [
       "(4487, 714)"
      ]
     },
     "execution_count": 58,
     "metadata": {},
     "output_type": "execute_result"
    }
   ],
   "source": [
    "# Training data articles\n",
    "user_item_train.shape"
   ]
  },
  {
   "cell_type": "code",
   "execution_count": 59,
   "metadata": {},
   "outputs": [
    {
     "data": {
      "text/plain": [
       "662"
      ]
     },
     "execution_count": 59,
     "metadata": {},
     "output_type": "execute_result"
    }
   ],
   "source": [
    "# This number of users are only in the test set and therefore we have a cold start problem\n",
    "user_item_test.shape[0] - users_in_test_and_train_set"
   ]
  },
  {
   "cell_type": "code",
   "execution_count": 60,
   "metadata": {},
   "outputs": [
    {
     "data": {
      "text/plain": [
       "574"
      ]
     },
     "execution_count": 60,
     "metadata": {},
     "output_type": "execute_result"
    }
   ],
   "source": [
    "# These are all articles in the test set for which we could do predictions\n",
    "user_item_test.shape[1]"
   ]
  },
  {
   "cell_type": "code",
   "execution_count": 61,
   "metadata": {},
   "outputs": [
    {
     "data": {
      "text/plain": [
       "0"
      ]
     },
     "execution_count": 61,
     "metadata": {},
     "output_type": "execute_result"
    }
   ],
   "source": [
    "# number of movies which are only in the test set and not in the training set\n",
    "test_articles = list(user_item_test.columns)\n",
    "train_articles = list(user_item_train.columns)\n",
    "articlses_in_test_and_train_set = len(np.intersect1d(train_articles, test_articles))\n",
    "user_item_test.shape[1] - articlses_in_test_and_train_set"
   ]
  },
  {
   "cell_type": "code",
   "execution_count": 62,
   "metadata": {},
   "outputs": [
    {
     "name": "stdout",
     "output_type": "stream",
     "text": [
      "Awesome job!  That's right!  All of the test movies are in the training data, but there are only 20 test users that were also in the training set.  All of the other users that are in the test set we have no data on.  Therefore, we cannot make predictions for these users using SVD.\n"
     ]
    }
   ],
   "source": [
    "# Replace the values in the dictionary below\n",
    "a = 662 \n",
    "b = 574 \n",
    "c = 20 \n",
    "d = 0 \n",
    "\n",
    "\n",
    "sol_4_dict = {\n",
    "    'How many users can we make predictions for in the test set?': c, \n",
    "    'How many users in the test set are we not able to make predictions for because of the cold start problem?': a, \n",
    "    'How many movies can we make predictions for in the test set?': b,\n",
    "    'How many movies in the test set are we not able to make predictions for because of the cold start problem?': d\n",
    "}\n",
    "\n",
    "t.sol_4_test(sol_4_dict)"
   ]
  },
  {
   "cell_type": "markdown",
   "metadata": {},
   "source": [
    "`5.` Now use the **user_item_train** dataset from above to find U, S, and V transpose using SVD. Then find the subset of rows in the **user_item_test** dataset that you can predict using this matrix decomposition with different numbers of latent features to see how many features makes sense to keep based on the accuracy on the test data. This will require combining what was done in questions `2` - `4`.\n",
    "\n",
    "Use the cells below to explore how well SVD works towards making predictions for recommendations on the test data.  "
   ]
  },
  {
   "cell_type": "code",
   "execution_count": 63,
   "metadata": {},
   "outputs": [],
   "source": [
    "# fit SVD on the user_item_train matrix\n",
    "u_train, s_train, vt_train = np.linalg.svd(user_item_train) # fit svd similar to above then use the cells below"
   ]
  },
  {
   "cell_type": "code",
   "execution_count": 64,
   "metadata": {},
   "outputs": [
    {
     "data": {
      "text/plain": [
       "'\\nThis was a try to improve the performance, but it did not work\\n# save the columns which are in the test set\\narticles_inter = np.intersect1d(user_item_train.columns, user_item_test.columns)\\narticles = list(user_item_train.columns)\\nid_articles = []\\nid = 0\\nfor i in articles:\\n    if i in articles_inter:\\n        id_articles.append(id)\\n    id += 1\\n\\n# get the users from the test set which are also in the train set\\nusers = np.intersect1d(user_item_train.index, user_item_test.index)\\nusers -= 1\\n\\n#subset of user_item_est matrix\\nuser_item_est = user_item_est[users, :]\\nuser_item_est = user_item_est[:, id_articles]\\n'"
      ]
     },
     "execution_count": 64,
     "metadata": {},
     "output_type": "execute_result"
    }
   ],
   "source": [
    "\"\"\"\n",
    "This was a try to improve the performance, but it did not work\n",
    "# save the columns which are in the test set\n",
    "articles_inter = np.intersect1d(user_item_train.columns, user_item_test.columns)\n",
    "articles = list(user_item_train.columns)\n",
    "id_articles = []\n",
    "id = 0\n",
    "for i in articles:\n",
    "    if i in articles_inter:\n",
    "        id_articles.append(id)\n",
    "    id += 1\n",
    "\n",
    "# get the users from the test set which are also in the train set\n",
    "users = np.intersect1d(user_item_train.index, user_item_test.index)\n",
    "users -= 1\n",
    "\n",
    "#subset of user_item_est matrix\n",
    "user_item_est = user_item_est[users, :]\n",
    "user_item_est = user_item_est[:, id_articles]\n",
    "\"\"\""
   ]
  },
  {
   "cell_type": "code",
   "execution_count": 69,
   "metadata": {},
   "outputs": [
    {
     "data": {
      "image/png": "[encoded data removed]",
      "text/plain": [
       "<matplotlib.figure.Figure at 0x7fd5eddcecf8>"
      ]
     },
     "metadata": {
      "needs_background": "light"
     },
     "output_type": "display_data"
    }
   ],
   "source": [
    "num_latent_feats = np.arange(1,560,10)\n",
    "sum_errs_test = []\n",
    "sum_errs_train = []\n",
    "\n",
    "for k in num_latent_feats:\n",
    "    # restructure with k latent features\n",
    "    s_new, u_new, vt_new = np.diag(s_train[:k]), u_train[:, :k], vt_train[:k, :]\n",
    "\n",
    "    # take dot product\n",
    "    user_item_est = np.around(np.dot(np.dot(u_new, s_new), vt_new))\n",
    "\n",
    "\n",
    "    # How many users can we make predictions for\n",
    "    test_users = list(user_item_test.index)\n",
    "    train_users = list(user_item_train.index)\n",
    "    users_in_test_and_train_set = len(np.intersect1d(train_users, test_users))\n",
    "    user_item_est_subset_for_test = user_item_est[:users_in_test_and_train_set, :user_item_test.shape[1]]\n",
    "    \n",
    "    \n",
    "    # only take the users in the test set which are also in the training set\n",
    "    user_item_test_subset = user_item_test[user_item_test.index<=4487]\n",
    "    \n",
    "    # compute error for each prediction to actual value\n",
    "    diffs_test = np.subtract(user_item_test_subset, user_item_est_subset_for_test)\n",
    "    diffs_train = np.subtract(user_item_train, user_item_est)\n",
    "    \n",
    "    # total errors and keep track of them\n",
    "    err_test = np.sum(np.sum(np.abs(diffs_test)))\n",
    "    sum_errs_test.append(err_test)\n",
    "    \n",
    "    err_train = np.sum(np.sum(np.abs(diffs_train)))\n",
    "    sum_errs_train.append(err_train)\n",
    "    \n",
    "\n",
    "plt.plot(num_latent_feats, 1 - np.array(sum_errs_test)/df.shape[0], label = 'test data');\n",
    "plt.plot(num_latent_feats, 1 - np.array(sum_errs_train)/df.shape[0], label = 'train data');\n",
    "plt.xlabel('Number of Latent Features');\n",
    "plt.ylabel('Accuracy');\n",
    "plt.title('Accuracy vs. Number of Latent Features');\n",
    "plt.legend(framealpha=1, frameon=True);"
   ]
  },
  {
   "cell_type": "markdown",
   "metadata": {
    "collapsed": true
   },
   "source": [
    "`6.` Use the cell below to comment on the results you found in the previous question. Given the circumstances of your results, discuss what you might do to determine if the recommendations you make with any of the above recommendation systems are an improvement to how users currently find articles? "
   ]
  },
  {
   "cell_type": "markdown",
   "metadata": {},
   "source": [
    "**If the number of latent features increases the performance does not increase. The accuracy is always high, therefore we can conclude that the amount of latent features does not matter a lot. Moreover, the accuracy might be the wrong way to measure the performance since the variable \"sum_err_test\" is small, because we have just 20 users. If we divide this variable by the length of the dataframe and substract this from one, it will always be close to one. \n",
    "Our model might perform better if we change the train and test data, so that we have more users for which we could do a prediction. Ideally would be to have many users in common in the train set and test set. \n",
    "Another evaluation for our model instead of accuracy might be an A/B testing between our test group and the predicted \"estimated group\". I think of an iterativ process in which we set up different train and test groups. By checking the statistical significance between the two groups tells us if the predicted set is different from the test set. If the null hypothesis is true our model seems to work fine. So the metric would be, how many wrong predictions there are in the predicted set compared to the test set. How long this needs to run I actually don't know. Probably it gets better the more it runs, but at some point the curve flattens and there is no impovement.**"
   ]
  },
  {
   "cell_type": "markdown",
   "metadata": {
    "collapsed": true
   },
   "source": [
    "<a id='conclusions'></a>\n",
    "### Extras\n",
    "Using your workbook, you could now save your recommendations for each user, develop a class to make new predictions and update your results, and make a flask app to deploy your results.  These tasks are beyond what is required for this project.  However, from what you learned in the lessons, you certainly capable of taking these tasks on to improve upon your work here!\n",
    "\n",
    "\n",
    "## Conclusion\n",
    "\n",
    "> Congratulations!  You have reached the end of the Recommendations with IBM project! \n",
    "\n",
    "> **Tip**: Once you are satisfied with your work here, check over your report to make sure that it is satisfies all the areas of the [rubric](https://review.udacity.com/#!/rubrics/2322/view). You should also probably remove all of the \"Tips\" like this one so that the presentation is as polished as possible.\n",
    "\n",
    "\n",
    "## Directions to Submit\n",
    "\n",
    "> Before you submit your project, you need to create a .html or .pdf version of this notebook in the workspace here. To do that, run the code cell below. If it worked correctly, you should get a return code of 0, and you should see the generated .html file in the workspace directory (click on the orange Jupyter icon in the upper left).\n",
    "\n",
    "> Alternatively, you can download this report as .html via the **File** > **Download as** submenu, and then manually upload it into the workspace directory by clicking on the orange Jupyter icon in the upper left, then using the Upload button.\n",
    "\n",
    "> Once you've done this, you can submit your project by clicking on the \"Submit Project\" button in the lower right here. This will create and submit a zip file with this .ipynb doc and the .html or .pdf version you created. Congratulations! "
   ]
  },
  {
   "cell_type": "code",
   "execution_count": 1,
   "metadata": {},
   "outputs": [
    {
     "data": {
      "text/plain": [
       "0"
      ]
     },
     "execution_count": 1,
     "metadata": {},
     "output_type": "execute_result"
    }
   ],
   "source": [
    "from subprocess import call\n",
    "call(['python', '-m', 'nbconvert', 'Recommendations_with_IBM.ipynb'])"
   ]
  },
  {
   "cell_type": "code",
   "execution_count": null,
   "metadata": {},
   "outputs": [],
   "source": []
  },
  {
   "cell_type": "code",
   "execution_count": null,
   "metadata": {},
   "outputs": [],
   "source": []
  }
 ],
 "metadata": {
  "kernelspec": {
   "display_name": "Python 3",
   "language": "python",
   "name": "python3"
  },
  "language_info": {
   "codemirror_mode": {
    "name": "ipython",
    "version": 3
   },
   "file_extension": ".py",
   "mimetype": "text/x-python",
   "name": "python",
   "nbconvert_exporter": "python",
   "pygments_lexer": "ipython3",
   "version": "3.6.3"
  }
 },
 "nbformat": 4,
 "nbformat_minor": 2
}
